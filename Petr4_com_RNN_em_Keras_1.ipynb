{
  "nbformat": 4,
  "nbformat_minor": 0,
  "metadata": {
    "colab": {
      "name": "Petr4 com RNN em Keras_1.ipynb",
      "provenance": [],
      "collapsed_sections": [],
      "authorship_tag": "ABX9TyPmNiVWGIMiyqq99byWNm22",
      "include_colab_link": true
    },
    "kernelspec": {
      "name": "python3",
      "display_name": "Python 3"
    }
  },
  "cells": [
    {
      "cell_type": "markdown",
      "metadata": {
        "id": "view-in-github",
        "colab_type": "text"
      },
      "source": [
        "<a href=\"https://colab.research.google.com/github/AecioLima/Scripts/blob/master/Petr4_com_RNN_em_Keras_1.ipynb\" target=\"_parent\"><img src=\"https://colab.research.google.com/assets/colab-badge.svg\" alt=\"Open In Colab\"/></a>"
      ]
    },
    {
      "cell_type": "code",
      "metadata": {
        "id": "SXLoTnu4bAlU",
        "colab_type": "code",
        "colab": {
          "base_uri": "https://localhost:8080/",
          "height": 34
        },
        "outputId": "453c96f0-edcc-47af-e26b-65462b300edb"
      },
      "source": [
        "from keras.models import Sequential\n",
        "from keras.layers import Dense, Dropout, LSTM\n",
        "from sklearn.preprocessing import MinMaxScaler\n",
        "import numpy as np\n",
        "import pandas as pd\n",
        "import matplotlib.pyplot as plt\n",
        "%matplotlib inline"
      ],
      "execution_count": null,
      "outputs": [
        {
          "output_type": "stream",
          "text": [
            "Using TensorFlow backend.\n"
          ],
          "name": "stderr"
        }
      ]
    },
    {
      "cell_type": "code",
      "metadata": {
        "id": "hdxr9BLNc38E",
        "colab_type": "code",
        "colab": {}
      },
      "source": [
        "base = pd.read_csv('/content/petr4_treinamento.csv')\n",
        "base = base.dropna()\n",
        "base_treinamento = base.iloc[:, 1:2].values"
      ],
      "execution_count": null,
      "outputs": []
    },
    {
      "cell_type": "code",
      "metadata": {
        "id": "HLBzHUxGdYLx",
        "colab_type": "code",
        "colab": {}
      },
      "source": [
        "normalizador = MinMaxScaler(feature_range=(0,1))\n",
        "base_treinamento_normalizada = normalizador.fit_transform(base_treinamento)"
      ],
      "execution_count": null,
      "outputs": []
    },
    {
      "cell_type": "code",
      "metadata": {
        "id": "OTnNmm6ydZ12",
        "colab_type": "code",
        "colab": {}
      },
      "source": [
        "previsores = []\n",
        "preco_real = []"
      ],
      "execution_count": null,
      "outputs": []
    },
    {
      "cell_type": "code",
      "metadata": {
        "id": "2kMRtxc3ddbv",
        "colab_type": "code",
        "colab": {}
      },
      "source": [
        "#for vai percorrer a base e vai preenchendo as listas criadas, precisa mudar esse FOR para algo mais rápido\n",
        "for i in range(90, 1242):\n",
        "    previsores.append(base_treinamento_normalizada[i-90:i, 0])\n",
        "    preco_real.append(base_treinamento_normalizada[i, 0])\n",
        "previsores, preco_real = np.array(previsores), np.array(preco_real)\n",
        "previsores = np.reshape(previsores, (previsores.shape[0], previsores.shape[1], 1))"
      ],
      "execution_count": null,
      "outputs": []
    },
    {
      "cell_type": "code",
      "metadata": {
        "id": "d-m_YqWJduSP",
        "colab_type": "code",
        "colab": {}
      },
      "source": [
        "#criação do regressor \n",
        "\n",
        "regressor = Sequential()\n",
        "regressor.add(LSTM(units = 100, return_sequences = True, input_shape = (previsores.shape[1], 1)))\n",
        "regressor.add(Dropout(0.3))\n",
        "\n",
        "regressor.add(LSTM(units = 50, return_sequences = True))\n",
        "regressor.add(Dropout(0.3))\n",
        "\n",
        "regressor.add(LSTM(units = 50, return_sequences = True))\n",
        "regressor.add(Dropout(0.3))\n",
        "\n",
        "regressor.add(LSTM(units = 50))\n",
        "regressor.add(Dropout(0.3))\n",
        "\n",
        "regressor.add(Dense(units = 1, activation = 'linear'))"
      ],
      "execution_count": null,
      "outputs": []
    },
    {
      "cell_type": "code",
      "metadata": {
        "id": "O_r5pzBeeBhS",
        "colab_type": "code",
        "colab": {
          "base_uri": "https://localhost:8080/",
          "height": 1000
        },
        "outputId": "4c6ee500-39b6-46fe-8d15-aaf7c501aace"
      },
      "source": [
        "#métrica e analise com 100 epocas (fazer comparativo com a ideia de Maurício)\n",
        "\n",
        "regressor.compile(optimizer = 'adam', loss = 'mean_squared_error',\n",
        "                  metrics = ['mean_absolute_error'])\n",
        "regressor.fit(previsores, preco_real, epochs = 100, batch_size = 32)"
      ],
      "execution_count": null,
      "outputs": [
        {
          "output_type": "stream",
          "text": [
            "Epoch 1/100\n",
            "1152/1152 [==============================] - 10s 9ms/step - loss: 0.0014 - mean_absolute_error: 0.0280\n",
            "Epoch 2/100\n",
            "1152/1152 [==============================] - 8s 7ms/step - loss: 0.0014 - mean_absolute_error: 0.0280\n",
            "Epoch 3/100\n",
            "1152/1152 [==============================] - 8s 7ms/step - loss: 0.0014 - mean_absolute_error: 0.0281\n",
            "Epoch 4/100\n",
            "1152/1152 [==============================] - 8s 7ms/step - loss: 0.0013 - mean_absolute_error: 0.0270\n",
            "Epoch 5/100\n",
            "1152/1152 [==============================] - 9s 7ms/step - loss: 0.0013 - mean_absolute_error: 0.0274\n",
            "Epoch 6/100\n",
            "1152/1152 [==============================] - 8s 7ms/step - loss: 0.0013 - mean_absolute_error: 0.0265\n",
            "Epoch 7/100\n",
            "1152/1152 [==============================] - 9s 7ms/step - loss: 0.0013 - mean_absolute_error: 0.0271\n",
            "Epoch 8/100\n",
            "1152/1152 [==============================] - 9s 7ms/step - loss: 0.0013 - mean_absolute_error: 0.0263\n",
            "Epoch 9/100\n",
            "1152/1152 [==============================] - 9s 7ms/step - loss: 0.0014 - mean_absolute_error: 0.0271\n",
            "Epoch 10/100\n",
            "1152/1152 [==============================] - 8s 7ms/step - loss: 0.0013 - mean_absolute_error: 0.0260\n",
            "Epoch 11/100\n",
            "1152/1152 [==============================] - 8s 7ms/step - loss: 0.0013 - mean_absolute_error: 0.0264\n",
            "Epoch 12/100\n",
            "1152/1152 [==============================] - 8s 7ms/step - loss: 0.0013 - mean_absolute_error: 0.0261\n",
            "Epoch 13/100\n",
            "1152/1152 [==============================] - 8s 7ms/step - loss: 0.0013 - mean_absolute_error: 0.0264\n",
            "Epoch 14/100\n",
            "1152/1152 [==============================] - 8s 7ms/step - loss: 0.0012 - mean_absolute_error: 0.0256\n",
            "Epoch 15/100\n",
            "1152/1152 [==============================] - 8s 7ms/step - loss: 0.0013 - mean_absolute_error: 0.0266\n",
            "Epoch 16/100\n",
            "1152/1152 [==============================] - 8s 7ms/step - loss: 0.0014 - mean_absolute_error: 0.0272\n",
            "Epoch 17/100\n",
            "1152/1152 [==============================] - 9s 7ms/step - loss: 0.0013 - mean_absolute_error: 0.0265\n",
            "Epoch 18/100\n",
            "1152/1152 [==============================] - 8s 7ms/step - loss: 0.0012 - mean_absolute_error: 0.0259\n",
            "Epoch 19/100\n",
            "1152/1152 [==============================] - 8s 7ms/step - loss: 0.0011 - mean_absolute_error: 0.0245\n",
            "Epoch 20/100\n",
            "1152/1152 [==============================] - 8s 7ms/step - loss: 0.0012 - mean_absolute_error: 0.0253\n",
            "Epoch 21/100\n",
            "1152/1152 [==============================] - 9s 7ms/step - loss: 0.0012 - mean_absolute_error: 0.0251\n",
            "Epoch 22/100\n",
            "1152/1152 [==============================] - 9s 7ms/step - loss: 0.0013 - mean_absolute_error: 0.0258\n",
            "Epoch 23/100\n",
            "1152/1152 [==============================] - 8s 7ms/step - loss: 0.0013 - mean_absolute_error: 0.0267\n",
            "Epoch 24/100\n",
            "1152/1152 [==============================] - 8s 7ms/step - loss: 0.0012 - mean_absolute_error: 0.0259\n",
            "Epoch 25/100\n",
            "1152/1152 [==============================] - 8s 7ms/step - loss: 0.0012 - mean_absolute_error: 0.0250\n",
            "Epoch 26/100\n",
            "1152/1152 [==============================] - 8s 7ms/step - loss: 0.0011 - mean_absolute_error: 0.0248\n",
            "Epoch 27/100\n",
            "1152/1152 [==============================] - 9s 7ms/step - loss: 0.0012 - mean_absolute_error: 0.0252\n",
            "Epoch 28/100\n",
            "1152/1152 [==============================] - 9s 7ms/step - loss: 0.0012 - mean_absolute_error: 0.0256\n",
            "Epoch 29/100\n",
            "1152/1152 [==============================] - 8s 7ms/step - loss: 0.0012 - mean_absolute_error: 0.0253\n",
            "Epoch 30/100\n",
            "1152/1152 [==============================] - 8s 7ms/step - loss: 0.0013 - mean_absolute_error: 0.0259\n",
            "Epoch 31/100\n",
            "1152/1152 [==============================] - 9s 7ms/step - loss: 0.0013 - mean_absolute_error: 0.0261\n",
            "Epoch 32/100\n",
            "1152/1152 [==============================] - 8s 7ms/step - loss: 0.0012 - mean_absolute_error: 0.0253\n",
            "Epoch 33/100\n",
            "1152/1152 [==============================] - 9s 7ms/step - loss: 0.0011 - mean_absolute_error: 0.0240\n",
            "Epoch 34/100\n",
            "1152/1152 [==============================] - 9s 7ms/step - loss: 0.0014 - mean_absolute_error: 0.0279\n",
            "Epoch 35/100\n",
            "1152/1152 [==============================] - 9s 7ms/step - loss: 0.0012 - mean_absolute_error: 0.0260\n",
            "Epoch 36/100\n",
            "1152/1152 [==============================] - 9s 7ms/step - loss: 0.0012 - mean_absolute_error: 0.0261\n",
            "Epoch 37/100\n",
            "1152/1152 [==============================] - 9s 7ms/step - loss: 0.0011 - mean_absolute_error: 0.0253\n",
            "Epoch 38/100\n",
            "1152/1152 [==============================] - 9s 8ms/step - loss: 0.0012 - mean_absolute_error: 0.0251\n",
            "Epoch 39/100\n",
            "1152/1152 [==============================] - 9s 7ms/step - loss: 0.0011 - mean_absolute_error: 0.0251\n",
            "Epoch 40/100\n",
            "1152/1152 [==============================] - 9s 7ms/step - loss: 0.0012 - mean_absolute_error: 0.0253\n",
            "Epoch 41/100\n",
            "1152/1152 [==============================] - 8s 7ms/step - loss: 0.0012 - mean_absolute_error: 0.0250\n",
            "Epoch 42/100\n",
            "1152/1152 [==============================] - 8s 7ms/step - loss: 0.0011 - mean_absolute_error: 0.0247\n",
            "Epoch 43/100\n",
            "1152/1152 [==============================] - 8s 7ms/step - loss: 0.0012 - mean_absolute_error: 0.0254\n",
            "Epoch 44/100\n",
            "1152/1152 [==============================] - 9s 7ms/step - loss: 0.0012 - mean_absolute_error: 0.0251\n",
            "Epoch 45/100\n",
            "1152/1152 [==============================] - 8s 7ms/step - loss: 0.0012 - mean_absolute_error: 0.0261\n",
            "Epoch 46/100\n",
            "1152/1152 [==============================] - 8s 7ms/step - loss: 0.0011 - mean_absolute_error: 0.0248\n",
            "Epoch 47/100\n",
            "1152/1152 [==============================] - 9s 8ms/step - loss: 0.0012 - mean_absolute_error: 0.0252\n",
            "Epoch 48/100\n",
            "1152/1152 [==============================] - 9s 7ms/step - loss: 0.0012 - mean_absolute_error: 0.0253\n",
            "Epoch 49/100\n",
            "1152/1152 [==============================] - 9s 7ms/step - loss: 0.0012 - mean_absolute_error: 0.0256\n",
            "Epoch 50/100\n",
            "1152/1152 [==============================] - 9s 8ms/step - loss: 0.0011 - mean_absolute_error: 0.0249\n",
            "Epoch 51/100\n",
            "1152/1152 [==============================] - 9s 7ms/step - loss: 0.0012 - mean_absolute_error: 0.0247\n",
            "Epoch 52/100\n",
            "1152/1152 [==============================] - 8s 7ms/step - loss: 0.0013 - mean_absolute_error: 0.0262\n",
            "Epoch 53/100\n",
            "1152/1152 [==============================] - 9s 8ms/step - loss: 0.0011 - mean_absolute_error: 0.0241\n",
            "Epoch 54/100\n",
            "1152/1152 [==============================] - 8s 7ms/step - loss: 0.0011 - mean_absolute_error: 0.0244\n",
            "Epoch 55/100\n",
            "1152/1152 [==============================] - 9s 7ms/step - loss: 0.0012 - mean_absolute_error: 0.0252\n",
            "Epoch 56/100\n",
            "1152/1152 [==============================] - 8s 7ms/step - loss: 0.0011 - mean_absolute_error: 0.0244\n",
            "Epoch 57/100\n",
            "1152/1152 [==============================] - 9s 7ms/step - loss: 0.0011 - mean_absolute_error: 0.0244\n",
            "Epoch 58/100\n",
            "1152/1152 [==============================] - 8s 7ms/step - loss: 0.0011 - mean_absolute_error: 0.0249\n",
            "Epoch 59/100\n",
            "1152/1152 [==============================] - 9s 7ms/step - loss: 0.0010 - mean_absolute_error: 0.0237\n",
            "Epoch 60/100\n",
            "1152/1152 [==============================] - 9s 7ms/step - loss: 0.0011 - mean_absolute_error: 0.0240\n",
            "Epoch 61/100\n",
            "1152/1152 [==============================] - 9s 8ms/step - loss: 0.0011 - mean_absolute_error: 0.0244\n",
            "Epoch 62/100\n",
            "1152/1152 [==============================] - 9s 7ms/step - loss: 0.0011 - mean_absolute_error: 0.0242\n",
            "Epoch 63/100\n",
            "1152/1152 [==============================] - 9s 7ms/step - loss: 0.0012 - mean_absolute_error: 0.0257\n",
            "Epoch 64/100\n",
            "1152/1152 [==============================] - 9s 7ms/step - loss: 0.0011 - mean_absolute_error: 0.0247\n",
            "Epoch 65/100\n",
            "1152/1152 [==============================] - 9s 8ms/step - loss: 0.0012 - mean_absolute_error: 0.0253\n",
            "Epoch 66/100\n",
            "1152/1152 [==============================] - 9s 7ms/step - loss: 0.0012 - mean_absolute_error: 0.0252\n",
            "Epoch 67/100\n",
            "1152/1152 [==============================] - 9s 7ms/step - loss: 0.0011 - mean_absolute_error: 0.0245\n",
            "Epoch 68/100\n",
            "1152/1152 [==============================] - 9s 7ms/step - loss: 0.0011 - mean_absolute_error: 0.0250\n",
            "Epoch 69/100\n",
            "1152/1152 [==============================] - 8s 7ms/step - loss: 0.0011 - mean_absolute_error: 0.0252\n",
            "Epoch 70/100\n",
            "1152/1152 [==============================] - 9s 7ms/step - loss: 0.0011 - mean_absolute_error: 0.0238\n",
            "Epoch 71/100\n",
            "1152/1152 [==============================] - 8s 7ms/step - loss: 0.0012 - mean_absolute_error: 0.0252\n",
            "Epoch 72/100\n",
            "1152/1152 [==============================] - 9s 7ms/step - loss: 0.0012 - mean_absolute_error: 0.0249\n",
            "Epoch 73/100\n",
            "1152/1152 [==============================] - 8s 7ms/step - loss: 0.0011 - mean_absolute_error: 0.0248\n",
            "Epoch 74/100\n",
            "1152/1152 [==============================] - 9s 7ms/step - loss: 0.0011 - mean_absolute_error: 0.0247\n",
            "Epoch 75/100\n",
            "1152/1152 [==============================] - 8s 7ms/step - loss: 0.0010 - mean_absolute_error: 0.0232\n",
            "Epoch 76/100\n",
            "1152/1152 [==============================] - 9s 8ms/step - loss: 0.0010 - mean_absolute_error: 0.0231\n",
            "Epoch 77/100\n",
            "1152/1152 [==============================] - 9s 7ms/step - loss: 0.0011 - mean_absolute_error: 0.0240\n",
            "Epoch 78/100\n",
            "1152/1152 [==============================] - 8s 7ms/step - loss: 0.0011 - mean_absolute_error: 0.0242\n",
            "Epoch 79/100\n",
            "1152/1152 [==============================] - 9s 7ms/step - loss: 0.0011 - mean_absolute_error: 0.0244\n",
            "Epoch 80/100\n",
            "1152/1152 [==============================] - 9s 7ms/step - loss: 0.0011 - mean_absolute_error: 0.0238\n",
            "Epoch 81/100\n",
            "1152/1152 [==============================] - 9s 7ms/step - loss: 0.0011 - mean_absolute_error: 0.0233\n",
            "Epoch 82/100\n",
            "1152/1152 [==============================] - 9s 8ms/step - loss: 0.0011 - mean_absolute_error: 0.0242\n",
            "Epoch 83/100\n",
            "1152/1152 [==============================] - 9s 7ms/step - loss: 0.0012 - mean_absolute_error: 0.0257\n",
            "Epoch 84/100\n",
            "1152/1152 [==============================] - 9s 7ms/step - loss: 0.0011 - mean_absolute_error: 0.0247\n",
            "Epoch 85/100\n",
            "1152/1152 [==============================] - 8s 7ms/step - loss: 0.0011 - mean_absolute_error: 0.0238\n",
            "Epoch 86/100\n",
            "1152/1152 [==============================] - 8s 7ms/step - loss: 0.0011 - mean_absolute_error: 0.0243\n",
            "Epoch 87/100\n",
            "1152/1152 [==============================] - 8s 7ms/step - loss: 0.0012 - mean_absolute_error: 0.0246\n",
            "Epoch 88/100\n",
            "1152/1152 [==============================] - 9s 7ms/step - loss: 0.0014 - mean_absolute_error: 0.0268\n",
            "Epoch 89/100\n",
            "1152/1152 [==============================] - 9s 8ms/step - loss: 0.0011 - mean_absolute_error: 0.0245\n",
            "Epoch 90/100\n",
            "1152/1152 [==============================] - 9s 7ms/step - loss: 0.0011 - mean_absolute_error: 0.0237\n",
            "Epoch 91/100\n",
            "1152/1152 [==============================] - 12s 10ms/step - loss: 0.0012 - mean_absolute_error: 0.0251\n",
            "Epoch 92/100\n",
            "1152/1152 [==============================] - 9s 7ms/step - loss: 0.0012 - mean_absolute_error: 0.0251\n",
            "Epoch 93/100\n",
            "1152/1152 [==============================] - 9s 7ms/step - loss: 0.0012 - mean_absolute_error: 0.0253\n",
            "Epoch 94/100\n",
            "1152/1152 [==============================] - 8s 7ms/step - loss: 0.0011 - mean_absolute_error: 0.0236\n",
            "Epoch 95/100\n",
            "1152/1152 [==============================] - 9s 7ms/step - loss: 0.0011 - mean_absolute_error: 0.0238\n",
            "Epoch 96/100\n",
            "1152/1152 [==============================] - 9s 7ms/step - loss: 0.0011 - mean_absolute_error: 0.0240\n",
            "Epoch 97/100\n",
            "1152/1152 [==============================] - 9s 7ms/step - loss: 0.0011 - mean_absolute_error: 0.0244\n",
            "Epoch 98/100\n",
            "1152/1152 [==============================] - 8s 7ms/step - loss: 0.0011 - mean_absolute_error: 0.0244\n",
            "Epoch 99/100\n",
            "1152/1152 [==============================] - 8s 7ms/step - loss: 0.0010 - mean_absolute_error: 0.0232\n",
            "Epoch 100/100\n",
            "1152/1152 [==============================] - 8s 7ms/step - loss: 0.0011 - mean_absolute_error: 0.0236\n"
          ],
          "name": "stdout"
        },
        {
          "output_type": "execute_result",
          "data": {
            "text/plain": [
              "<keras.callbacks.callbacks.History at 0x7fb5e1d4e160>"
            ]
          },
          "metadata": {
            "tags": []
          },
          "execution_count": 18
        }
      ]
    },
    {
      "cell_type": "code",
      "metadata": {
        "id": "sb5Q1Xaphwm6",
        "colab_type": "code",
        "colab": {}
      },
      "source": [
        "base_teste = pd.read_csv('/content/petr4_teste.csv')\n",
        "preco_real_teste = base_teste.iloc[:, 1:2].values\n",
        "base_completa = pd.concat((base['Open'], base_teste['Open']), axis = 0)\n",
        "entradas = base_completa[len(base_completa) - len(base_teste) - 90:].values\n",
        "entradas = entradas.reshape(-1, 1)\n",
        "entradas = normalizador.transform(entradas)"
      ],
      "execution_count": null,
      "outputs": []
    },
    {
      "cell_type": "code",
      "metadata": {
        "id": "MvJJIBvBh8fJ",
        "colab_type": "code",
        "colab": {}
      },
      "source": [
        "#Lista para ser preenchida com o percorrimento do FOR (Vetorizar após os testes)\n",
        "X_teste = []"
      ],
      "execution_count": null,
      "outputs": []
    },
    {
      "cell_type": "code",
      "metadata": {
        "id": "j-OkDMRyiH0X",
        "colab_type": "code",
        "colab": {}
      },
      "source": [
        "#FOR para fazer o append \n",
        "for i in range(90, 112):\n",
        "    X_teste.append(entradas[i-90:i, 0])\n",
        "X_teste = np.array(X_teste)\n",
        "X_teste = np.reshape(X_teste, (X_teste.shape[0], X_teste.shape[1], 1))\n",
        "previsoes = regressor.predict(X_teste)\n",
        "previsoes = normalizador.inverse_transform(previsoes)"
      ],
      "execution_count": null,
      "outputs": []
    },
    {
      "cell_type": "code",
      "metadata": {
        "id": "Voh8V29RiXwo",
        "colab_type": "code",
        "colab": {
          "base_uri": "https://localhost:8080/",
          "height": 34
        },
        "outputId": "b5b5fa28-139c-4a77-d88a-beae89f65d6f"
      },
      "source": [
        "previsoes.mean()"
      ],
      "execution_count": null,
      "outputs": [
        {
          "output_type": "execute_result",
          "data": {
            "text/plain": [
              "17.6095"
            ]
          },
          "metadata": {
            "tags": []
          },
          "execution_count": 22
        }
      ]
    },
    {
      "cell_type": "code",
      "metadata": {
        "id": "6j6S_u12ibqO",
        "colab_type": "code",
        "colab": {
          "base_uri": "https://localhost:8080/",
          "height": 34
        },
        "outputId": "a2049dd6-da06-496f-8856-76e5ce152f39"
      },
      "source": [
        "preco_real_teste.mean()"
      ],
      "execution_count": null,
      "outputs": [
        {
          "output_type": "execute_result",
          "data": {
            "text/plain": [
              "17.87454563636364"
            ]
          },
          "metadata": {
            "tags": []
          },
          "execution_count": 23
        }
      ]
    },
    {
      "cell_type": "code",
      "metadata": {
        "id": "ZWGFJ6LG4FH_",
        "colab_type": "code",
        "colab": {}
      },
      "source": [
        ""
      ],
      "execution_count": null,
      "outputs": []
    },
    {
      "cell_type": "code",
      "metadata": {
        "id": "RtpPWxIeigUj",
        "colab_type": "code",
        "colab": {
          "base_uri": "https://localhost:8080/",
          "height": 34
        },
        "outputId": "eed36600-42e7-4b77-d99f-448e16f54585"
      },
      "source": [
        "17.6095 - 17.874545"
      ],
      "execution_count": null,
      "outputs": [
        {
          "output_type": "execute_result",
          "data": {
            "text/plain": [
              "-0.26504500000000064"
            ]
          },
          "metadata": {
            "tags": []
          },
          "execution_count": 24
        }
      ]
    },
    {
      "cell_type": "code",
      "metadata": {
        "id": "rq3z1sU_itP2",
        "colab_type": "code",
        "colab": {
          "base_uri": "https://localhost:8080/",
          "height": 567
        },
        "outputId": "325d25d0-0b58-4ca3-9b5a-36686663d10e"
      },
      "source": [
        "plt.plot(preco_real_teste, color = 'red', label = 'Preço real')\n",
        "plt.plot(previsoes, color = 'blue', label = 'Previsões')\n",
        "plt.title('Previsão preço das ações')\n",
        "plt.xlabel('Tempo')\n",
        "plt.ylabel('Valor Yahoo Finance')\n",
        "plt.rcParams['figure.figsize'] = (15,9)\n",
        "plt.legend()\n",
        "plt.show()"
      ],
      "execution_count": null,
      "outputs": [
        {
          "output_type": "display_data",
          "data": {
            "image/png": "[encoded data removed]",
            "text/plain": [
              "<Figure size 1080x648 with 1 Axes>"
            ]
          },
          "metadata": {
            "tags": [],
            "needs_background": "light"
          }
        }
      ]
    },
    {
      "cell_type": "markdown",
      "metadata": {
        "id": "QA3eJR3hQ2Vo",
        "colab_type": "text"
      },
      "source": [
        "Diferença entre preço real e preço previsto tem uma média de diferença de 0,35 centavos usando como Backend o TensorFlow. \n",
        "\n",
        "Em outra configuração usando o Theano como backend o valor da diferença caiu para R$0,09 e mostra que podemos ter algo muito bom. \n",
        "\n",
        "Agora pode ser vetorizado algumas partes para eliminar o FOR e ajustar melhor as configurações do TensorFlow. "
      ]
    },
    {
      "cell_type": "code",
      "metadata": {
        "id": "KQywA74fRlNI",
        "colab_type": "code",
        "colab": {}
      },
      "source": [
        ""
      ],
      "execution_count": null,
      "outputs": []
    }
  ]
}