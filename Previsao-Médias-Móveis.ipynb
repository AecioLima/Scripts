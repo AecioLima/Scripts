{
 "cells": [
  {
   "cell_type": "markdown",
   "metadata": {
    "colab_type": "text",
    "id": "tH7nJ9OLuDsW"
   },
   "source": [
    "### Médias Móveis (Average Moving Smoothing)\n",
    "\n"
   ]
  },
  {
   "cell_type": "markdown",
   "metadata": {
    "colab_type": "text",
    "id": "cqvFD0v2yRtu"
   },
   "source": [
    "\n",
    "\n",
    "*   Valor médio de valores em uma sequência de tempo.\n",
    "*   Objetivo é remover ruídos e fazer previsões.\n",
    "*   Pode ser usado para Feature Engineering.\n",
    "\n"
   ]
  },
  {
   "cell_type": "code",
   "execution_count": 1,
   "metadata": {
    "colab": {
     "base_uri": "https://localhost:8080/",
     "height": 54
    },
    "colab_type": "code",
    "executionInfo": {
     "elapsed": 753,
     "status": "ok",
     "timestamp": 1588296078411,
     "user": {
      "displayName": "Rodrigo Santana Ferreira",
      "photoUrl": "https://lh3.googleusercontent.com/a-/AOh14Gh4OVUnkCrXudTIiz5YNwndI2zAhcS1gWXUSvoqJQ=s64",
      "userId": "14710330936720624047"
     },
     "user_tz": 180
    },
    "id": "urp73GS2XBf_",
    "outputId": "c604de31-1349-4cf7-a2da-7d9e666a0c96"
   },
   "outputs": [
    {
     "name": "stdout",
     "output_type": "stream",
     "text": [
      "Drive already mounted at /content/drive; to attempt to forcibly remount, call drive.mount(\"/content/drive\", force_remount=True).\n"
     ]
    }
   ],
   "source": [
    "from google.colab import drive\n",
    "drive.mount('/content/drive')"
   ]
  },
  {
   "cell_type": "code",
   "execution_count": 0,
   "metadata": {
    "colab": {},
    "colab_type": "code",
    "id": "afLyotsTuCbS"
   },
   "outputs": [],
   "source": [
    "# importa as bibliotecas que serão usadas\n",
    "import pandas as pd\n",
    "from pandas import read_csv\n",
    "from matplotlib import pyplot"
   ]
  },
  {
   "cell_type": "code",
   "execution_count": 0,
   "metadata": {
    "colab": {},
    "colab_type": "code",
    "id": "WuThxV47nRCq"
   },
   "outputs": [],
   "source": [
    "# ler a base de dados usada.\n",
    "filename='/content/drive/My Drive/Data Science Tutoriais/Prevendo dados com Janelas deslizantes/champagne_sales.csv'\n",
    "series = read_csv(filename, header=0, index_col=0, parse_dates=True, squeeze=True)"
   ]
  },
  {
   "cell_type": "code",
   "execution_count": 5,
   "metadata": {
    "colab": {
     "base_uri": "https://localhost:8080/",
     "height": 223
    },
    "colab_type": "code",
    "executionInfo": {
     "elapsed": 887,
     "status": "ok",
     "timestamp": 1588296158394,
     "user": {
      "displayName": "Rodrigo Santana Ferreira",
      "photoUrl": "https://lh3.googleusercontent.com/a-/AOh14Gh4OVUnkCrXudTIiz5YNwndI2zAhcS1gWXUSvoqJQ=s64",
      "userId": "14710330936720624047"
     },
     "user_tz": 180
    },
    "id": "kdPV0_N5pl98",
    "outputId": "42d741aa-bc56-4f5b-90fb-e4ee7e131bb9"
   },
   "outputs": [
    {
     "data": {
      "text/plain": [
       "Month\n",
       "1964-01-01    2815\n",
       "1964-02-01    2672\n",
       "1964-03-01    2755\n",
       "1964-04-01    2721\n",
       "1964-05-01    2946\n",
       "1964-06-01    3036\n",
       "1964-07-01    2282\n",
       "1964-08-01    2212\n",
       "1964-09-01    2922\n",
       "1964-10-01    4301\n",
       "Name: Sales, dtype: int64"
      ]
     },
     "execution_count": 5,
     "metadata": {
      "tags": []
     },
     "output_type": "execute_result"
    }
   ],
   "source": [
    "series.head(10)"
   ]
  },
  {
   "cell_type": "code",
   "execution_count": 6,
   "metadata": {
    "colab": {
     "base_uri": "https://localhost:8080/",
     "height": 296
    },
    "colab_type": "code",
    "executionInfo": {
     "elapsed": 978,
     "status": "ok",
     "timestamp": 1588296174481,
     "user": {
      "displayName": "Rodrigo Santana Ferreira",
      "photoUrl": "https://lh3.googleusercontent.com/a-/AOh14Gh4OVUnkCrXudTIiz5YNwndI2zAhcS1gWXUSvoqJQ=s64",
      "userId": "14710330936720624047"
     },
     "user_tz": 180
    },
    "id": "25xuMkUKpntT",
    "outputId": "976a55a9-b430-40fa-853f-4b73e4c6a659"
   },
   "outputs": [
    {
     "data": {
      "text/plain": [
       "<matplotlib.axes._subplots.AxesSubplot at 0x7efdb7e506d8>"
      ]
     },
     "execution_count": 6,
     "metadata": {
      "tags": []
     },
     "output_type": "execute_result"
    },
    {
     "data": {
      "image/png": "[encoded data removed]",
      "text/plain": [
       "<Figure size 432x288 with 1 Axes>"
      ]
     },
     "metadata": {
      "needs_background": "light",
      "tags": []
     },
     "output_type": "display_data"
    }
   ],
   "source": [
    "series.plot()"
   ]
  },
  {
   "cell_type": "code",
   "execution_count": 0,
   "metadata": {
    "colab": {},
    "colab_type": "code",
    "id": "tUPzOlag6fTU"
   },
   "outputs": [],
   "source": [
    "# cria um objeto rolling de janela igual a 3\n",
    "rolling = series.rolling(window=3)"
   ]
  },
  {
   "cell_type": "code",
   "execution_count": 8,
   "metadata": {
    "colab": {
     "base_uri": "https://localhost:8080/",
     "height": 34
    },
    "colab_type": "code",
    "executionInfo": {
     "elapsed": 712,
     "status": "ok",
     "timestamp": 1588296272116,
     "user": {
      "displayName": "Rodrigo Santana Ferreira",
      "photoUrl": "https://lh3.googleusercontent.com/a-/AOh14Gh4OVUnkCrXudTIiz5YNwndI2zAhcS1gWXUSvoqJQ=s64",
      "userId": "14710330936720624047"
     },
     "user_tz": 180
    },
    "id": "0bXZzKIHTL3f",
    "outputId": "537b8fb1-6c8b-48dc-d668-066e0306b073"
   },
   "outputs": [
    {
     "data": {
      "text/plain": [
       "Rolling [window=3,center=False,axis=0]"
      ]
     },
     "execution_count": 8,
     "metadata": {
      "tags": []
     },
     "output_type": "execute_result"
    }
   ],
   "source": [
    "rolling"
   ]
  },
  {
   "cell_type": "code",
   "execution_count": 0,
   "metadata": {
    "colab": {},
    "colab_type": "code",
    "id": "tSO8Z_E8uCOt"
   },
   "outputs": [],
   "source": [
    "# calcula a média da janela\n",
    "rolling_mean = rolling.mean()"
   ]
  },
  {
   "cell_type": "code",
   "execution_count": 10,
   "metadata": {
    "colab": {
     "base_uri": "https://localhost:8080/",
     "height": 223
    },
    "colab_type": "code",
    "executionInfo": {
     "elapsed": 651,
     "status": "ok",
     "timestamp": 1588296310059,
     "user": {
      "displayName": "Rodrigo Santana Ferreira",
      "photoUrl": "https://lh3.googleusercontent.com/a-/AOh14Gh4OVUnkCrXudTIiz5YNwndI2zAhcS1gWXUSvoqJQ=s64",
      "userId": "14710330936720624047"
     },
     "user_tz": 180
    },
    "id": "M-OEef226Cur",
    "outputId": "04f79707-7886-4ac6-8709-c88800f1be13"
   },
   "outputs": [
    {
     "name": "stdout",
     "output_type": "stream",
     "text": [
      "Month\n",
      "1964-01-01            NaN\n",
      "1964-02-01            NaN\n",
      "1964-03-01    2747.333333\n",
      "1964-04-01    2716.000000\n",
      "1964-05-01    2807.333333\n",
      "1964-06-01    2901.000000\n",
      "1964-07-01    2754.666667\n",
      "1964-08-01    2510.000000\n",
      "1964-09-01    2472.000000\n",
      "1964-10-01    3145.000000\n",
      "Name: Sales, dtype: float64\n"
     ]
    }
   ],
   "source": [
    "# imprime o objeto rolling_mean\n",
    "print(rolling_mean.head(10))"
   ]
  },
  {
   "cell_type": "code",
   "execution_count": 0,
   "metadata": {
    "colab": {},
    "colab_type": "code",
    "id": "by_mU1NA5zdD"
   },
   "outputs": [],
   "source": [
    "# plot os dados originais e os dados da média móvel \n",
    "series.plot()\n",
    "rolling_mean.plot(color='red')\n",
    "pyplot.show()"
   ]
  },
  {
   "cell_type": "markdown",
   "metadata": {
    "colab_type": "text",
    "id": "172xD9_cZ0Wm"
   },
   "source": [
    "Importa o Plot.ly"
   ]
  },
  {
   "cell_type": "code",
   "execution_count": 11,
   "metadata": {
    "colab": {
     "base_uri": "https://localhost:8080/",
     "height": 17
    },
    "colab_type": "code",
    "executionInfo": {
     "elapsed": 948,
     "status": "ok",
     "timestamp": 1588296364465,
     "user": {
      "displayName": "Rodrigo Santana Ferreira",
      "photoUrl": "https://lh3.googleusercontent.com/a-/AOh14Gh4OVUnkCrXudTIiz5YNwndI2zAhcS1gWXUSvoqJQ=s64",
      "userId": "14710330936720624047"
     },
     "user_tz": 180
    },
    "id": "YubQfyAFoaq3",
    "outputId": "c25a8db4-6ed2-4c41-8dc7-1dd7c077461e"
   },
   "outputs": [
    {
     "data": {
      "text/html": [
       "        <script type=\"text/javascript\">\n",
       "        window.PlotlyConfig = {MathJaxConfig: 'local'};\n",
       "        if (window.MathJax) {MathJax.Hub.Config({SVG: {font: \"STIX-Web\"}});}\n",
       "        if (typeof require !== 'undefined') {\n",
       "        require.undef(\"plotly\");\n",
       "        requirejs.config({\n",
       "            paths: {\n",
       "                'plotly': ['https://cdn.plot.ly/plotly-latest.min']\n",
       "            }\n",
       "        });\n",
       "        require(['plotly'], function(Plotly) {\n",
       "            window._Plotly = Plotly;\n",
       "        });\n",
       "        }\n",
       "        </script>\n",
       "        "
      ]
     },
     "metadata": {
      "tags": []
     },
     "output_type": "display_data"
    }
   ],
   "source": [
    "# habilita o modo offline\n",
    "import plotly\n",
    "import plotly.offline as py\n",
    "from plotly.offline import plot, iplot\n",
    "import plotly.graph_objs as go\n",
    "plotly.offline.init_notebook_mode(connected=True)"
   ]
  },
  {
   "cell_type": "code",
   "execution_count": 0,
   "metadata": {
    "colab": {},
    "colab_type": "code",
    "id": "S4X8BnvzmoBL"
   },
   "outputs": [],
   "source": [
    "# habilita o renderizador do colab\n",
    "import plotly.io as pio\n",
    "pio.renderers\n",
    "pio.renderers.default = \"colab\""
   ]
  },
  {
   "cell_type": "code",
   "execution_count": 13,
   "metadata": {
    "colab": {
     "base_uri": "https://localhost:8080/",
     "height": 542
    },
    "colab_type": "code",
    "executionInfo": {
     "elapsed": 1437,
     "status": "ok",
     "timestamp": 1588296409114,
     "user": {
      "displayName": "Rodrigo Santana Ferreira",
      "photoUrl": "https://lh3.googleusercontent.com/a-/AOh14Gh4OVUnkCrXudTIiz5YNwndI2zAhcS1gWXUSvoqJQ=s64",
      "userId": "14710330936720624047"
     },
     "user_tz": 180
    },
    "id": "dm8TsrPymvq7",
    "outputId": "05766fe0-736b-4eb7-e631-9e977be22446"
   },
   "outputs": [
    {
     "data": {
      "text/html": [
       "<html>\n",
       "<head><meta charset=\"utf-8\" /></head>\n",
       "<body>\n",
       "    <div>\n",
       "            <script src=\"https://cdnjs.cloudflare.com/ajax/libs/mathjax/2.7.5/MathJax.js?config=TeX-AMS-MML_SVG\"></script><script type=\"text/javascript\">if (window.MathJax) {MathJax.Hub.Config({SVG: {font: \"STIX-Web\"}});}</script>\n",
       "                <script type=\"text/javascript\">window.PlotlyConfig = {MathJaxConfig: 'local'};</script>\n",
       "        <script src=\"https://cdn.plot.ly/plotly-latest.min.js\"></script>    \n",
       "            <div id=\"779f0651-32c5-421d-8a65-3e583e8d23ba\" class=\"plotly-graph-div\" style=\"height:525px; width:100%;\"></div>\n",
       "            <script type=\"text/javascript\">\n",
       "                \n",
       "                    window.PLOTLYENV=window.PLOTLYENV || {};\n",
       "                    \n",
       "                if (document.getElementById(\"779f0651-32c5-421d-8a65-3e583e8d23ba\")) {\n",
       "                    Plotly.newPlot(\n",
       "                        '779f0651-32c5-421d-8a65-3e583e8d23ba',\n",
       "                        [{\"line\": {\"color\": \"#FF8000\"}, \"name\": \"Vendas Mensais\", \"opacity\": 0.8, \"type\": \"scatter\", \"x\": [\"1964-01-01T00:00:00\", \"1964-02-01T00:00:00\", \"1964-03-01T00:00:00\", \"1964-04-01T00:00:00\", \"1964-05-01T00:00:00\", \"1964-06-01T00:00:00\", \"1964-07-01T00:00:00\", \"1964-08-01T00:00:00\", \"1964-09-01T00:00:00\", \"1964-10-01T00:00:00\", \"1964-11-01T00:00:00\", \"1964-12-01T00:00:00\", \"1965-01-01T00:00:00\", \"1965-02-01T00:00:00\", \"1965-03-01T00:00:00\", \"1965-04-01T00:00:00\", \"1965-05-01T00:00:00\", \"1965-06-01T00:00:00\", \"1965-07-01T00:00:00\", \"1965-08-01T00:00:00\", \"1965-09-01T00:00:00\", \"1965-10-01T00:00:00\", \"1965-11-01T00:00:00\", \"1965-12-01T00:00:00\", \"1966-01-01T00:00:00\", \"1966-02-01T00:00:00\", \"1966-03-01T00:00:00\", \"1966-04-01T00:00:00\", \"1966-05-01T00:00:00\", \"1966-06-01T00:00:00\", \"1966-07-01T00:00:00\", \"1966-08-01T00:00:00\", \"1966-09-01T00:00:00\", \"1966-10-01T00:00:00\", \"1966-11-01T00:00:00\", \"1966-12-01T00:00:00\", \"1967-01-01T00:00:00\", \"1967-02-01T00:00:00\", \"1967-03-01T00:00:00\", \"1967-04-01T00:00:00\", \"1967-05-01T00:00:00\", \"1967-06-01T00:00:00\", \"1967-07-01T00:00:00\", \"1967-08-01T00:00:00\", \"1967-09-01T00:00:00\", \"1967-10-01T00:00:00\", \"1967-11-01T00:00:00\", \"1967-12-01T00:00:00\", \"1968-01-01T00:00:00\", \"1968-02-01T00:00:00\", \"1968-03-01T00:00:00\", \"1968-04-01T00:00:00\", \"1968-05-01T00:00:00\", \"1968-06-01T00:00:00\", \"1968-07-01T00:00:00\", \"1968-08-01T00:00:00\", \"1968-09-01T00:00:00\", \"1968-10-01T00:00:00\", \"1968-11-01T00:00:00\", \"1968-12-01T00:00:00\", \"1969-01-01T00:00:00\", \"1969-02-01T00:00:00\", \"1969-03-01T00:00:00\", \"1969-04-01T00:00:00\", \"1969-05-01T00:00:00\", \"1969-06-01T00:00:00\", \"1969-07-01T00:00:00\", \"1969-08-01T00:00:00\", \"1969-09-01T00:00:00\", \"1969-10-01T00:00:00\", \"1969-11-01T00:00:00\", \"1969-12-01T00:00:00\", \"1970-01-01T00:00:00\", \"1970-02-01T00:00:00\", \"1970-03-01T00:00:00\", \"1970-04-01T00:00:00\", \"1970-05-01T00:00:00\", \"1970-06-01T00:00:00\", \"1970-07-01T00:00:00\", \"1970-08-01T00:00:00\", \"1970-09-01T00:00:00\", \"1970-10-01T00:00:00\", \"1970-11-01T00:00:00\", \"1970-12-01T00:00:00\", \"1971-01-01T00:00:00\", \"1971-02-01T00:00:00\", \"1971-03-01T00:00:00\", \"1971-04-01T00:00:00\", \"1971-05-01T00:00:00\", \"1971-06-01T00:00:00\", \"1971-07-01T00:00:00\", \"1971-08-01T00:00:00\", \"1971-09-01T00:00:00\", \"1971-10-01T00:00:00\", \"1971-11-01T00:00:00\", \"1971-12-01T00:00:00\", \"1972-01-01T00:00:00\", \"1972-02-01T00:00:00\", \"1972-03-01T00:00:00\", \"1972-04-01T00:00:00\", \"1972-05-01T00:00:00\", \"1972-06-01T00:00:00\", \"1972-07-01T00:00:00\", \"1972-08-01T00:00:00\", \"1972-09-01T00:00:00\"], \"y\": [2815, 2672, 2755, 2721, 2946, 3036, 2282, 2212, 2922, 4301, 5764, 7312, 2541, 2475, 3031, 3266, 3776, 3230, 3028, 1759, 3595, 4474, 6838, 8357, 3113, 3006, 4047, 3523, 3937, 3986, 3260, 1573, 3528, 5211, 7614, 9254, 5375, 3088, 3718, 4514, 4520, 4539, 3663, 1643, 4739, 5428, 8314, 10651, 3633, 4292, 4154, 4121, 4647, 4753, 3965, 1723, 5048, 6922, 9858, 11331, 4016, 3957, 4510, 4276, 4968, 4677, 3523, 1821, 5222, 6872, 10803, 13916, 2639, 2899, 3370, 3740, 2927, 3986, 4217, 1738, 5221, 6424, 9842, 13076, 3934, 3162, 4286, 4676, 5010, 4874, 4633, 1659, 5951, 6981, 9851, 12670, 4348, 3564, 4577, 4788, 4618, 5312, 4298, 1413, 5877]}, {\"line\": {\"color\": \"#FF00FF\"}, \"name\": \"M\\u00e9dia M\\u00f3vel 3 Per\\u00edodos\", \"opacity\": 0.8, \"type\": \"scatter\", \"x\": [\"1964-01-01T00:00:00\", \"1964-02-01T00:00:00\", \"1964-03-01T00:00:00\", \"1964-04-01T00:00:00\", \"1964-05-01T00:00:00\", \"1964-06-01T00:00:00\", \"1964-07-01T00:00:00\", \"1964-08-01T00:00:00\", \"1964-09-01T00:00:00\", \"1964-10-01T00:00:00\", \"1964-11-01T00:00:00\", \"1964-12-01T00:00:00\", \"1965-01-01T00:00:00\", \"1965-02-01T00:00:00\", \"1965-03-01T00:00:00\", \"1965-04-01T00:00:00\", \"1965-05-01T00:00:00\", \"1965-06-01T00:00:00\", \"1965-07-01T00:00:00\", \"1965-08-01T00:00:00\", \"1965-09-01T00:00:00\", \"1965-10-01T00:00:00\", \"1965-11-01T00:00:00\", \"1965-12-01T00:00:00\", \"1966-01-01T00:00:00\", \"1966-02-01T00:00:00\", \"1966-03-01T00:00:00\", \"1966-04-01T00:00:00\", \"1966-05-01T00:00:00\", \"1966-06-01T00:00:00\", \"1966-07-01T00:00:00\", \"1966-08-01T00:00:00\", \"1966-09-01T00:00:00\", \"1966-10-01T00:00:00\", \"1966-11-01T00:00:00\", \"1966-12-01T00:00:00\", \"1967-01-01T00:00:00\", \"1967-02-01T00:00:00\", \"1967-03-01T00:00:00\", \"1967-04-01T00:00:00\", \"1967-05-01T00:00:00\", \"1967-06-01T00:00:00\", \"1967-07-01T00:00:00\", \"1967-08-01T00:00:00\", \"1967-09-01T00:00:00\", \"1967-10-01T00:00:00\", \"1967-11-01T00:00:00\", \"1967-12-01T00:00:00\", \"1968-01-01T00:00:00\", \"1968-02-01T00:00:00\", \"1968-03-01T00:00:00\", \"1968-04-01T00:00:00\", \"1968-05-01T00:00:00\", \"1968-06-01T00:00:00\", \"1968-07-01T00:00:00\", \"1968-08-01T00:00:00\", \"1968-09-01T00:00:00\", \"1968-10-01T00:00:00\", \"1968-11-01T00:00:00\", \"1968-12-01T00:00:00\", \"1969-01-01T00:00:00\", \"1969-02-01T00:00:00\", \"1969-03-01T00:00:00\", \"1969-04-01T00:00:00\", \"1969-05-01T00:00:00\", \"1969-06-01T00:00:00\", \"1969-07-01T00:00:00\", \"1969-08-01T00:00:00\", \"1969-09-01T00:00:00\", \"1969-10-01T00:00:00\", \"1969-11-01T00:00:00\", \"1969-12-01T00:00:00\", \"1970-01-01T00:00:00\", \"1970-02-01T00:00:00\", \"1970-03-01T00:00:00\", \"1970-04-01T00:00:00\", \"1970-05-01T00:00:00\", \"1970-06-01T00:00:00\", \"1970-07-01T00:00:00\", \"1970-08-01T00:00:00\", \"1970-09-01T00:00:00\", \"1970-10-01T00:00:00\", \"1970-11-01T00:00:00\", \"1970-12-01T00:00:00\", \"1971-01-01T00:00:00\", \"1971-02-01T00:00:00\", \"1971-03-01T00:00:00\", \"1971-04-01T00:00:00\", \"1971-05-01T00:00:00\", \"1971-06-01T00:00:00\", \"1971-07-01T00:00:00\", \"1971-08-01T00:00:00\", \"1971-09-01T00:00:00\", \"1971-10-01T00:00:00\", \"1971-11-01T00:00:00\", \"1971-12-01T00:00:00\", \"1972-01-01T00:00:00\", \"1972-02-01T00:00:00\", \"1972-03-01T00:00:00\", \"1972-04-01T00:00:00\", \"1972-05-01T00:00:00\", \"1972-06-01T00:00:00\", \"1972-07-01T00:00:00\", \"1972-08-01T00:00:00\", \"1972-09-01T00:00:00\"], \"y\": [null, null, 2747.3333333333335, 2716.0, 2807.3333333333335, 2901.0, 2754.6666666666665, 2510.0, 2472.0, 3145.0, 4329.0, 5792.333333333333, 5205.666666666667, 4109.333333333333, 2682.3333333333335, 2924.0, 3357.6666666666665, 3424.0, 3344.6666666666665, 2672.3333333333335, 2794.0, 3276.0, 4969.0, 6556.333333333333, 6102.666666666667, 4825.333333333333, 3388.6666666666665, 3525.3333333333335, 3835.6666666666665, 3815.3333333333335, 3727.6666666666665, 2939.6666666666665, 2787.0, 3437.3333333333335, 5451.0, 7359.666666666667, 7414.333333333333, 5905.666666666667, 4060.3333333333335, 3773.3333333333335, 4250.666666666667, 4524.333333333333, 4240.666666666667, 3281.6666666666665, 3348.3333333333335, 3936.6666666666665, 6160.333333333333, 8131.0, 7532.666666666667, 6192.0, 4026.3333333333335, 4189.0, 4307.333333333333, 4507.0, 4455.0, 3480.3333333333335, 3578.6666666666665, 4564.333333333333, 7276.0, 9370.333333333334, 8401.666666666666, 6434.666666666667, 4161.0, 4247.666666666667, 4584.666666666667, 4640.333333333333, 4389.333333333333, 3340.3333333333335, 3522.0, 4638.333333333333, 7632.333333333333, 10530.333333333334, 9119.333333333334, 6484.666666666667, 2969.3333333333335, 3336.3333333333335, 3345.6666666666665, 3551.0, 3710.0, 3313.6666666666665, 3725.3333333333335, 4461.0, 7162.333333333333, 9780.666666666666, 8950.666666666666, 6724.0, 3794.0, 4041.3333333333335, 4657.333333333333, 4853.333333333333, 4839.0, 3722.0, 4081.0, 4863.666666666667, 7594.333333333333, 9834.0, 8956.333333333334, 6860.666666666667, 4163.0, 4309.666666666667, 4661.0, 4906.0, 4742.666666666667, 3674.3333333333335, 3862.6666666666665]}],\n",
       "                        {\"template\": {\"data\": {\"bar\": [{\"error_x\": {\"color\": \"#2a3f5f\"}, \"error_y\": {\"color\": \"#2a3f5f\"}, \"marker\": {\"line\": {\"color\": \"#E5ECF6\", \"width\": 0.5}}, \"type\": \"bar\"}], \"barpolar\": [{\"marker\": {\"line\": {\"color\": \"#E5ECF6\", \"width\": 0.5}}, \"type\": \"barpolar\"}], \"carpet\": [{\"aaxis\": {\"endlinecolor\": \"#2a3f5f\", \"gridcolor\": \"white\", \"linecolor\": \"white\", \"minorgridcolor\": \"white\", \"startlinecolor\": \"#2a3f5f\"}, \"baxis\": {\"endlinecolor\": \"#2a3f5f\", \"gridcolor\": \"white\", \"linecolor\": \"white\", \"minorgridcolor\": \"white\", \"startlinecolor\": \"#2a3f5f\"}, \"type\": \"carpet\"}], \"choropleth\": [{\"colorbar\": {\"outlinewidth\": 0, \"ticks\": \"\"}, \"type\": \"choropleth\"}], \"contour\": [{\"colorbar\": {\"outlinewidth\": 0, \"ticks\": \"\"}, \"colorscale\": [[0.0, \"#0d0887\"], [0.1111111111111111, \"#46039f\"], [0.2222222222222222, \"#7201a8\"], [0.3333333333333333, \"#9c179e\"], [0.4444444444444444, \"#bd3786\"], [0.5555555555555556, \"#d8576b\"], [0.6666666666666666, \"#ed7953\"], [0.7777777777777778, \"#fb9f3a\"], [0.8888888888888888, \"#fdca26\"], [1.0, \"#f0f921\"]], \"type\": \"contour\"}], \"contourcarpet\": [{\"colorbar\": {\"outlinewidth\": 0, \"ticks\": \"\"}, \"type\": \"contourcarpet\"}], \"heatmap\": [{\"colorbar\": {\"outlinewidth\": 0, \"ticks\": \"\"}, \"colorscale\": [[0.0, \"#0d0887\"], [0.1111111111111111, \"#46039f\"], [0.2222222222222222, \"#7201a8\"], [0.3333333333333333, \"#9c179e\"], [0.4444444444444444, \"#bd3786\"], [0.5555555555555556, \"#d8576b\"], [0.6666666666666666, \"#ed7953\"], [0.7777777777777778, \"#fb9f3a\"], [0.8888888888888888, \"#fdca26\"], [1.0, \"#f0f921\"]], \"type\": \"heatmap\"}], \"heatmapgl\": [{\"colorbar\": {\"outlinewidth\": 0, \"ticks\": \"\"}, \"colorscale\": [[0.0, \"#0d0887\"], [0.1111111111111111, \"#46039f\"], [0.2222222222222222, \"#7201a8\"], [0.3333333333333333, \"#9c179e\"], [0.4444444444444444, \"#bd3786\"], [0.5555555555555556, \"#d8576b\"], [0.6666666666666666, \"#ed7953\"], [0.7777777777777778, \"#fb9f3a\"], [0.8888888888888888, \"#fdca26\"], [1.0, \"#f0f921\"]], \"type\": \"heatmapgl\"}], \"histogram\": [{\"marker\": {\"colorbar\": {\"outlinewidth\": 0, \"ticks\": \"\"}}, \"type\": \"histogram\"}], \"histogram2d\": [{\"colorbar\": {\"outlinewidth\": 0, \"ticks\": \"\"}, \"colorscale\": [[0.0, \"#0d0887\"], [0.1111111111111111, \"#46039f\"], [0.2222222222222222, \"#7201a8\"], [0.3333333333333333, \"#9c179e\"], [0.4444444444444444, \"#bd3786\"], [0.5555555555555556, \"#d8576b\"], [0.6666666666666666, \"#ed7953\"], [0.7777777777777778, \"#fb9f3a\"], [0.8888888888888888, \"#fdca26\"], [1.0, \"#f0f921\"]], \"type\": \"histogram2d\"}], \"histogram2dcontour\": [{\"colorbar\": {\"outlinewidth\": 0, \"ticks\": \"\"}, \"colorscale\": [[0.0, \"#0d0887\"], [0.1111111111111111, \"#46039f\"], [0.2222222222222222, \"#7201a8\"], [0.3333333333333333, \"#9c179e\"], [0.4444444444444444, \"#bd3786\"], [0.5555555555555556, \"#d8576b\"], [0.6666666666666666, \"#ed7953\"], [0.7777777777777778, \"#fb9f3a\"], [0.8888888888888888, \"#fdca26\"], [1.0, \"#f0f921\"]], \"type\": \"histogram2dcontour\"}], \"mesh3d\": [{\"colorbar\": {\"outlinewidth\": 0, \"ticks\": \"\"}, \"type\": \"mesh3d\"}], \"parcoords\": [{\"line\": {\"colorbar\": {\"outlinewidth\": 0, \"ticks\": \"\"}}, \"type\": \"parcoords\"}], \"pie\": [{\"automargin\": true, \"type\": \"pie\"}], \"scatter\": [{\"marker\": {\"colorbar\": {\"outlinewidth\": 0, \"ticks\": \"\"}}, \"type\": \"scatter\"}], \"scatter3d\": [{\"line\": {\"colorbar\": {\"outlinewidth\": 0, \"ticks\": \"\"}}, \"marker\": {\"colorbar\": {\"outlinewidth\": 0, \"ticks\": \"\"}}, \"type\": \"scatter3d\"}], \"scattercarpet\": [{\"marker\": {\"colorbar\": {\"outlinewidth\": 0, \"ticks\": \"\"}}, \"type\": \"scattercarpet\"}], \"scattergeo\": [{\"marker\": {\"colorbar\": {\"outlinewidth\": 0, \"ticks\": \"\"}}, \"type\": \"scattergeo\"}], \"scattergl\": [{\"marker\": {\"colorbar\": {\"outlinewidth\": 0, \"ticks\": \"\"}}, \"type\": \"scattergl\"}], \"scattermapbox\": [{\"marker\": {\"colorbar\": {\"outlinewidth\": 0, \"ticks\": \"\"}}, \"type\": \"scattermapbox\"}], \"scatterpolar\": [{\"marker\": {\"colorbar\": {\"outlinewidth\": 0, \"ticks\": \"\"}}, \"type\": \"scatterpolar\"}], \"scatterpolargl\": [{\"marker\": {\"colorbar\": {\"outlinewidth\": 0, \"ticks\": \"\"}}, \"type\": \"scatterpolargl\"}], \"scatterternary\": [{\"marker\": {\"colorbar\": {\"outlinewidth\": 0, \"ticks\": \"\"}}, \"type\": \"scatterternary\"}], \"surface\": [{\"colorbar\": {\"outlinewidth\": 0, \"ticks\": \"\"}, \"colorscale\": [[0.0, \"#0d0887\"], [0.1111111111111111, \"#46039f\"], [0.2222222222222222, \"#7201a8\"], [0.3333333333333333, \"#9c179e\"], [0.4444444444444444, \"#bd3786\"], [0.5555555555555556, \"#d8576b\"], [0.6666666666666666, \"#ed7953\"], [0.7777777777777778, \"#fb9f3a\"], [0.8888888888888888, \"#fdca26\"], [1.0, \"#f0f921\"]], \"type\": \"surface\"}], \"table\": [{\"cells\": {\"fill\": {\"color\": \"#EBF0F8\"}, \"line\": {\"color\": \"white\"}}, \"header\": {\"fill\": {\"color\": \"#C8D4E3\"}, \"line\": {\"color\": \"white\"}}, \"type\": \"table\"}]}, \"layout\": {\"annotationdefaults\": {\"arrowcolor\": \"#2a3f5f\", \"arrowhead\": 0, \"arrowwidth\": 1}, \"coloraxis\": {\"colorbar\": {\"outlinewidth\": 0, \"ticks\": \"\"}}, \"colorscale\": {\"diverging\": [[0, \"#8e0152\"], [0.1, \"#c51b7d\"], [0.2, \"#de77ae\"], [0.3, \"#f1b6da\"], [0.4, \"#fde0ef\"], [0.5, \"#f7f7f7\"], [0.6, \"#e6f5d0\"], [0.7, \"#b8e186\"], [0.8, \"#7fbc41\"], [0.9, \"#4d9221\"], [1, \"#276419\"]], \"sequential\": [[0.0, \"#0d0887\"], [0.1111111111111111, \"#46039f\"], [0.2222222222222222, \"#7201a8\"], [0.3333333333333333, \"#9c179e\"], [0.4444444444444444, \"#bd3786\"], [0.5555555555555556, \"#d8576b\"], [0.6666666666666666, \"#ed7953\"], [0.7777777777777778, \"#fb9f3a\"], [0.8888888888888888, \"#fdca26\"], [1.0, \"#f0f921\"]], \"sequentialminus\": [[0.0, \"#0d0887\"], [0.1111111111111111, \"#46039f\"], [0.2222222222222222, \"#7201a8\"], [0.3333333333333333, \"#9c179e\"], [0.4444444444444444, \"#bd3786\"], [0.5555555555555556, \"#d8576b\"], [0.6666666666666666, \"#ed7953\"], [0.7777777777777778, \"#fb9f3a\"], [0.8888888888888888, \"#fdca26\"], [1.0, \"#f0f921\"]]}, \"colorway\": [\"#636efa\", \"#EF553B\", \"#00cc96\", \"#ab63fa\", \"#FFA15A\", \"#19d3f3\", \"#FF6692\", \"#B6E880\", \"#FF97FF\", \"#FECB52\"], \"font\": {\"color\": \"#2a3f5f\"}, \"geo\": {\"bgcolor\": \"white\", \"lakecolor\": \"white\", \"landcolor\": \"#E5ECF6\", \"showlakes\": true, \"showland\": true, \"subunitcolor\": \"white\"}, \"hoverlabel\": {\"align\": \"left\"}, \"hovermode\": \"closest\", \"mapbox\": {\"style\": \"light\"}, \"paper_bgcolor\": \"white\", \"plot_bgcolor\": \"#E5ECF6\", \"polar\": {\"angularaxis\": {\"gridcolor\": \"white\", \"linecolor\": \"white\", \"ticks\": \"\"}, \"bgcolor\": \"#E5ECF6\", \"radialaxis\": {\"gridcolor\": \"white\", \"linecolor\": \"white\", \"ticks\": \"\"}}, \"scene\": {\"xaxis\": {\"backgroundcolor\": \"#E5ECF6\", \"gridcolor\": \"white\", \"gridwidth\": 2, \"linecolor\": \"white\", \"showbackground\": true, \"ticks\": \"\", \"zerolinecolor\": \"white\"}, \"yaxis\": {\"backgroundcolor\": \"#E5ECF6\", \"gridcolor\": \"white\", \"gridwidth\": 2, \"linecolor\": \"white\", \"showbackground\": true, \"ticks\": \"\", \"zerolinecolor\": \"white\"}, \"zaxis\": {\"backgroundcolor\": \"#E5ECF6\", \"gridcolor\": \"white\", \"gridwidth\": 2, \"linecolor\": \"white\", \"showbackground\": true, \"ticks\": \"\", \"zerolinecolor\": \"white\"}}, \"shapedefaults\": {\"line\": {\"color\": \"#2a3f5f\"}}, \"ternary\": {\"aaxis\": {\"gridcolor\": \"white\", \"linecolor\": \"white\", \"ticks\": \"\"}, \"baxis\": {\"gridcolor\": \"white\", \"linecolor\": \"white\", \"ticks\": \"\"}, \"bgcolor\": \"#E5ECF6\", \"caxis\": {\"gridcolor\": \"white\", \"linecolor\": \"white\", \"ticks\": \"\"}}, \"title\": {\"x\": 0.05}, \"xaxis\": {\"automargin\": true, \"gridcolor\": \"white\", \"linecolor\": \"white\", \"ticks\": \"\", \"title\": {\"standoff\": 15}, \"zerolinecolor\": \"white\", \"zerolinewidth\": 2}, \"yaxis\": {\"automargin\": true, \"gridcolor\": \"white\", \"linecolor\": \"white\", \"ticks\": \"\", \"title\": {\"standoff\": 15}, \"zerolinecolor\": \"white\", \"zerolinewidth\": 2}}}, \"title\": {\"text\": \"Valores de vendas vs M\\u00e9dia M\\u00f3vel\", \"x\": 0.5}},\n",
       "                        {\"responsive\": true}\n",
       "                    ).then(function(){\n",
       "                            \n",
       "var gd = document.getElementById('779f0651-32c5-421d-8a65-3e583e8d23ba');\n",
       "var x = new MutationObserver(function (mutations, observer) {{\n",
       "        var display = window.getComputedStyle(gd).display;\n",
       "        if (!display || display === 'none') {{\n",
       "            console.log([gd, 'removed!']);\n",
       "            Plotly.purge(gd);\n",
       "            observer.disconnect();\n",
       "        }}\n",
       "}});\n",
       "\n",
       "// Listen for the removal of the full notebook cells\n",
       "var notebookContainer = gd.closest('#notebook-container');\n",
       "if (notebookContainer) {{\n",
       "    x.observe(notebookContainer, {childList: true});\n",
       "}}\n",
       "\n",
       "// Listen for the clearing of the current output cell\n",
       "var outputEl = gd.closest('.output');\n",
       "if (outputEl) {{\n",
       "    x.observe(outputEl, {childList: true});\n",
       "}}\n",
       "\n",
       "                        })\n",
       "                };\n",
       "                \n",
       "            </script>\n",
       "        </div>\n",
       "</body>\n",
       "</html>"
      ]
     },
     "metadata": {
      "tags": []
     },
     "output_type": "display_data"
    }
   ],
   "source": [
    "vendas = go.Scatter(\n",
    "                x=series.index,\n",
    "                y=series.values,\n",
    "                name = \"Vendas Mensais\",\n",
    "                line = dict(color = '#FF8000'),\n",
    "                opacity = 0.8)\n",
    "\n",
    "MM_3 = go.Scatter(\n",
    "                x=rolling_mean.index,\n",
    "                y=rolling_mean.values,\n",
    "                name = \"Média Móvel 3 Períodos\",\n",
    "                line = dict(color = '#FF00FF'),\n",
    "                opacity = 0.8)\n",
    "\n",
    "data = [vendas, MM_3]\n",
    "\n",
    "layout = dict(\n",
    "    title = \"Valores de vendas vs Média Móvel\",\n",
    "    title_x= 0.5\n",
    ")\n",
    "\n",
    "fig = dict(data=data, layout=layout)\n",
    "py.iplot(fig)"
   ]
  },
  {
   "cell_type": "markdown",
   "metadata": {
    "colab_type": "text",
    "id": "7UfK5TM1Au6Y"
   },
   "source": [
    "#### Previsões com Média Móvel"
   ]
  },
  {
   "cell_type": "markdown",
   "metadata": {
    "colab_type": "text",
    "id": "aOjH8VgSA24f"
   },
   "source": [
    "\n",
    "\n",
    "1.   Solução simples (walk-forward)\n",
    "2.   Interessante para se criar baselines.\n",
    "3.   Pode se usar Janelas Deslizantes para trabalhar com dados quentes.\n",
    "\n"
   ]
  },
  {
   "cell_type": "code",
   "execution_count": 0,
   "metadata": {
    "colab": {},
    "colab_type": "code",
    "id": "SgzZoBzrvfkN"
   },
   "outputs": [],
   "source": [
    "from math import sqrt\n",
    "from pandas import read_csv\n",
    "from numpy import mean\n",
    "from sklearn.metrics import mean_squared_error"
   ]
  },
  {
   "cell_type": "code",
   "execution_count": 15,
   "metadata": {
    "colab": {
     "base_uri": "https://localhost:8080/",
     "height": 240
    },
    "colab_type": "code",
    "executionInfo": {
     "elapsed": 709,
     "status": "ok",
     "timestamp": 1588296490763,
     "user": {
      "displayName": "Rodrigo Santana Ferreira",
      "photoUrl": "https://lh3.googleusercontent.com/a-/AOh14Gh4OVUnkCrXudTIiz5YNwndI2zAhcS1gWXUSvoqJQ=s64",
      "userId": "14710330936720624047"
     },
     "user_tz": 180
    },
    "id": "XVe7wlM9A1pY",
    "outputId": "db7ce851-c06d-40aa-81ee-ca92af24592c"
   },
   "outputs": [
    {
     "data": {
      "text/plain": [
       "Month\n",
       "1964-01-01    2815\n",
       "1964-02-01    2672\n",
       "1964-03-01    2755\n",
       "1964-04-01    2721\n",
       "1964-05-01    2946\n",
       "              ... \n",
       "1972-05-01    4618\n",
       "1972-06-01    5312\n",
       "1972-07-01    4298\n",
       "1972-08-01    1413\n",
       "1972-09-01    5877\n",
       "Name: Sales, Length: 105, dtype: int64"
      ]
     },
     "execution_count": 15,
     "metadata": {
      "tags": []
     },
     "output_type": "execute_result"
    }
   ],
   "source": [
    "series"
   ]
  },
  {
   "cell_type": "code",
   "execution_count": 0,
   "metadata": {
    "colab": {},
    "colab_type": "code",
    "id": "6R5RWFKufaXE"
   },
   "outputs": [],
   "source": [
    "# Define uma janela de 3 elementos\n",
    "window = 3"
   ]
  },
  {
   "cell_type": "code",
   "execution_count": 0,
   "metadata": {
    "colab": {},
    "colab_type": "code",
    "id": "HTlqgIKDtcsj"
   },
   "outputs": [],
   "source": [
    "# Obtem os 3 primeiros valores da serie\n",
    "history = [series.values[i] for i in range(window)]"
   ]
  },
  {
   "cell_type": "code",
   "execution_count": 18,
   "metadata": {
    "colab": {
     "base_uri": "https://localhost:8080/",
     "height": 34
    },
    "colab_type": "code",
    "executionInfo": {
     "elapsed": 619,
     "status": "ok",
     "timestamp": 1588296676310,
     "user": {
      "displayName": "Rodrigo Santana Ferreira",
      "photoUrl": "https://lh3.googleusercontent.com/a-/AOh14Gh4OVUnkCrXudTIiz5YNwndI2zAhcS1gWXUSvoqJQ=s64",
      "userId": "14710330936720624047"
     },
     "user_tz": 180
    },
    "id": "bw7Ou0r326ad",
    "outputId": "565bb07d-4cce-4b8d-e5c5-452ad77f3210"
   },
   "outputs": [
    {
     "data": {
      "text/plain": [
       "range(0, 3)"
      ]
     },
     "execution_count": 18,
     "metadata": {
      "tags": []
     },
     "output_type": "execute_result"
    }
   ],
   "source": [
    "range(window)"
   ]
  },
  {
   "cell_type": "code",
   "execution_count": 20,
   "metadata": {
    "colab": {
     "base_uri": "https://localhost:8080/",
     "height": 34
    },
    "colab_type": "code",
    "executionInfo": {
     "elapsed": 792,
     "status": "ok",
     "timestamp": 1588296708115,
     "user": {
      "displayName": "Rodrigo Santana Ferreira",
      "photoUrl": "https://lh3.googleusercontent.com/a-/AOh14Gh4OVUnkCrXudTIiz5YNwndI2zAhcS1gWXUSvoqJQ=s64",
      "userId": "14710330936720624047"
     },
     "user_tz": 180
    },
    "id": "Cliinomlf0m9",
    "outputId": "419f70fc-bbb8-4b73-be61-7f585c8f215e"
   },
   "outputs": [
    {
     "data": {
      "text/plain": [
       "[2815, 2672, 2755]"
      ]
     },
     "execution_count": 20,
     "metadata": {
      "tags": []
     },
     "output_type": "execute_result"
    }
   ],
   "source": [
    "# imprime a variável history\n",
    "history"
   ]
  },
  {
   "cell_type": "code",
   "execution_count": 0,
   "metadata": {
    "colab": {},
    "colab_type": "code",
    "id": "QhgqJC-Lfw5O"
   },
   "outputs": [],
   "source": [
    "# Obtem todos os valores após os tres primeiros.\n",
    "# range(3, tamanho_da_serie)\n",
    "\n",
    "test = [series.values[i] for i in range(window, len(series.values))]"
   ]
  },
  {
   "cell_type": "code",
   "execution_count": 22,
   "metadata": {
    "colab": {
     "base_uri": "https://localhost:8080/",
     "height": 34
    },
    "colab_type": "code",
    "executionInfo": {
     "elapsed": 682,
     "status": "ok",
     "timestamp": 1588296820402,
     "user": {
      "displayName": "Rodrigo Santana Ferreira",
      "photoUrl": "https://lh3.googleusercontent.com/a-/AOh14Gh4OVUnkCrXudTIiz5YNwndI2zAhcS1gWXUSvoqJQ=s64",
      "userId": "14710330936720624047"
     },
     "user_tz": 180
    },
    "id": "9wWUrUXDuujH",
    "outputId": "78395964-00c9-4839-d574-d0990a619942"
   },
   "outputs": [
    {
     "data": {
      "text/plain": [
       "[2721, 2946, 3036, 2282, 2212, 2922, 4301, 5764, 7312, 2541]"
      ]
     },
     "execution_count": 22,
     "metadata": {
      "tags": []
     },
     "output_type": "execute_result"
    }
   ],
   "source": [
    "# imprime a variável test\n",
    "# 10 primeiros valores da série após o history\n",
    "test[:10]"
   ]
  },
  {
   "cell_type": "code",
   "execution_count": 23,
   "metadata": {
    "colab": {
     "base_uri": "https://localhost:8080/",
     "height": 223
    },
    "colab_type": "code",
    "executionInfo": {
     "elapsed": 655,
     "status": "ok",
     "timestamp": 1588296840438,
     "user": {
      "displayName": "Rodrigo Santana Ferreira",
      "photoUrl": "https://lh3.googleusercontent.com/a-/AOh14Gh4OVUnkCrXudTIiz5YNwndI2zAhcS1gWXUSvoqJQ=s64",
      "userId": "14710330936720624047"
     },
     "user_tz": 180
    },
    "id": "478ZbRz7uojD",
    "outputId": "03d6c2ab-f45f-46a8-f6a9-e14f9b49cbb8"
   },
   "outputs": [
    {
     "data": {
      "text/plain": [
       "array([ 2815,  2672,  2755,  2721,  2946,  3036,  2282,  2212,  2922,\n",
       "        4301,  5764,  7312,  2541,  2475,  3031,  3266,  3776,  3230,\n",
       "        3028,  1759,  3595,  4474,  6838,  8357,  3113,  3006,  4047,\n",
       "        3523,  3937,  3986,  3260,  1573,  3528,  5211,  7614,  9254,\n",
       "        5375,  3088,  3718,  4514,  4520,  4539,  3663,  1643,  4739,\n",
       "        5428,  8314, 10651,  3633,  4292,  4154,  4121,  4647,  4753,\n",
       "        3965,  1723,  5048,  6922,  9858, 11331,  4016,  3957,  4510,\n",
       "        4276,  4968,  4677,  3523,  1821,  5222,  6872, 10803, 13916,\n",
       "        2639,  2899,  3370,  3740,  2927,  3986,  4217,  1738,  5221,\n",
       "        6424,  9842, 13076,  3934,  3162,  4286,  4676,  5010,  4874,\n",
       "        4633,  1659,  5951,  6981,  9851, 12670,  4348,  3564,  4577,\n",
       "        4788,  4618,  5312,  4298,  1413,  5877])"
      ]
     },
     "execution_count": 23,
     "metadata": {
      "tags": []
     },
     "output_type": "execute_result"
    }
   ],
   "source": [
    "# serie original\n",
    "series.values"
   ]
  },
  {
   "cell_type": "code",
   "execution_count": 29,
   "metadata": {
    "colab": {
     "base_uri": "https://localhost:8080/",
     "height": 34
    },
    "colab_type": "code",
    "executionInfo": {
     "elapsed": 885,
     "status": "ok",
     "timestamp": 1588297137385,
     "user": {
      "displayName": "Rodrigo Santana Ferreira",
      "photoUrl": "https://lh3.googleusercontent.com/a-/AOh14Gh4OVUnkCrXudTIiz5YNwndI2zAhcS1gWXUSvoqJQ=s64",
      "userId": "14710330936720624047"
     },
     "user_tz": 180
    },
    "id": "dPO4dn-fYjH1",
    "outputId": "4a7849cb-0575-4f65-8f59-47d9cc8bfd5a"
   },
   "outputs": [
    {
     "name": "stdout",
     "output_type": "stream",
     "text": [
      "4\n"
     ]
    }
   ],
   "source": [
    "# obtem o tamanho da lista history\n",
    "length = len(history)\n",
    "print (length)"
   ]
  },
  {
   "cell_type": "code",
   "execution_count": 30,
   "metadata": {
    "colab": {
     "base_uri": "https://localhost:8080/",
     "height": 34
    },
    "colab_type": "code",
    "executionInfo": {
     "elapsed": 579,
     "status": "ok",
     "timestamp": 1588297145045,
     "user": {
      "displayName": "Rodrigo Santana Ferreira",
      "photoUrl": "https://lh3.googleusercontent.com/a-/AOh14Gh4OVUnkCrXudTIiz5YNwndI2zAhcS1gWXUSvoqJQ=s64",
      "userId": "14710330936720624047"
     },
     "user_tz": 180
    },
    "id": "NtQ-MPkJZBy3",
    "outputId": "18684528-3a28-4e68-af74-e30e6cc7c141"
   },
   "outputs": [
    {
     "name": "stdout",
     "output_type": "stream",
     "text": [
      "1\n"
     ]
    }
   ],
   "source": [
    "# obtem o inicio da range\n",
    "print (length - window)"
   ]
  },
  {
   "cell_type": "code",
   "execution_count": 31,
   "metadata": {
    "colab": {
     "base_uri": "https://localhost:8080/",
     "height": 34
    },
    "colab_type": "code",
    "executionInfo": {
     "elapsed": 695,
     "status": "ok",
     "timestamp": 1588297164633,
     "user": {
      "displayName": "Rodrigo Santana Ferreira",
      "photoUrl": "https://lh3.googleusercontent.com/a-/AOh14Gh4OVUnkCrXudTIiz5YNwndI2zAhcS1gWXUSvoqJQ=s64",
      "userId": "14710330936720624047"
     },
     "user_tz": 180
    },
    "id": "FSwL132mY3Ux",
    "outputId": "f4966dbd-67a8-4039-8f6c-451987b8e80e"
   },
   "outputs": [
    {
     "data": {
      "text/plain": [
       "[2672, 2755, 2721]"
      ]
     },
     "execution_count": 31,
     "metadata": {
      "tags": []
     },
     "output_type": "execute_result"
    }
   ],
   "source": [
    "# percorre history (3 ultimos elementos)\n",
    "[history[i] for i in range(length - window, length)]"
   ]
  },
  {
   "cell_type": "code",
   "execution_count": 32,
   "metadata": {
    "colab": {
     "base_uri": "https://localhost:8080/",
     "height": 34
    },
    "colab_type": "code",
    "executionInfo": {
     "elapsed": 632,
     "status": "ok",
     "timestamp": 1588297189873,
     "user": {
      "displayName": "Rodrigo Santana Ferreira",
      "photoUrl": "https://lh3.googleusercontent.com/a-/AOh14Gh4OVUnkCrXudTIiz5YNwndI2zAhcS1gWXUSvoqJQ=s64",
      "userId": "14710330936720624047"
     },
     "user_tz": 180
    },
    "id": "84nhdbPbYReY",
    "outputId": "8c04adbf-5f64-4914-9cc7-55b151bb223f"
   },
   "outputs": [
    {
     "data": {
      "text/plain": [
       "2716.0"
      ]
     },
     "execution_count": 32,
     "metadata": {
      "tags": []
     },
     "output_type": "execute_result"
    }
   ],
   "source": [
    "# calcula a média do 3 ultimos valores de history\n",
    "mean([history[i] for i in range(length - window, length)])"
   ]
  },
  {
   "cell_type": "code",
   "execution_count": 0,
   "metadata": {
    "colab": {},
    "colab_type": "code",
    "id": "q1Di67POZrv3"
   },
   "outputs": [],
   "source": [
    "# atualiza a lista history\n",
    "valor_real = 2721\n",
    "history.append(valor_real)"
   ]
  },
  {
   "cell_type": "markdown",
   "metadata": {
    "colab_type": "text",
    "id": "FUPt1R8v9Ct5"
   },
   "source": [
    "**Previsão com Média Móvel - Janela deslizante**"
   ]
  },
  {
   "cell_type": "code",
   "execution_count": 33,
   "metadata": {
    "colab": {
     "base_uri": "https://localhost:8080/",
     "height": 1000
    },
    "colab_type": "code",
    "executionInfo": {
     "elapsed": 837,
     "status": "ok",
     "timestamp": 1588297450894,
     "user": {
      "displayName": "Rodrigo Santana Ferreira",
      "photoUrl": "https://lh3.googleusercontent.com/a-/AOh14Gh4OVUnkCrXudTIiz5YNwndI2zAhcS1gWXUSvoqJQ=s64",
      "userId": "14710330936720624047"
     },
     "user_tz": 180
    },
    "id": "eSFgcRj9tlpt",
    "outputId": "38a49004-2e28-421b-d89a-6820a8da3ac0"
   },
   "outputs": [
    {
     "name": "stdout",
     "output_type": "stream",
     "text": [
      "Valor predito=2747.333333, Valor real=2721.000000\n",
      "Valor predito=2716.000000, Valor real=2946.000000\n",
      "Valor predito=2807.333333, Valor real=3036.000000\n",
      "Valor predito=2901.000000, Valor real=2282.000000\n",
      "Valor predito=2754.666667, Valor real=2212.000000\n",
      "Valor predito=2510.000000, Valor real=2922.000000\n",
      "Valor predito=2472.000000, Valor real=4301.000000\n",
      "Valor predito=3145.000000, Valor real=5764.000000\n",
      "Valor predito=4329.000000, Valor real=7312.000000\n",
      "Valor predito=5792.333333, Valor real=2541.000000\n",
      "Valor predito=5205.666667, Valor real=2475.000000\n",
      "Valor predito=4109.333333, Valor real=3031.000000\n",
      "Valor predito=2682.333333, Valor real=3266.000000\n",
      "Valor predito=2924.000000, Valor real=3776.000000\n",
      "Valor predito=3357.666667, Valor real=3230.000000\n",
      "Valor predito=3424.000000, Valor real=3028.000000\n",
      "Valor predito=3344.666667, Valor real=1759.000000\n",
      "Valor predito=2672.333333, Valor real=3595.000000\n",
      "Valor predito=2794.000000, Valor real=4474.000000\n",
      "Valor predito=3276.000000, Valor real=6838.000000\n",
      "Valor predito=4969.000000, Valor real=8357.000000\n",
      "Valor predito=6556.333333, Valor real=3113.000000\n",
      "Valor predito=6102.666667, Valor real=3006.000000\n",
      "Valor predito=4825.333333, Valor real=4047.000000\n",
      "Valor predito=3388.666667, Valor real=3523.000000\n",
      "Valor predito=3525.333333, Valor real=3937.000000\n",
      "Valor predito=3835.666667, Valor real=3986.000000\n",
      "Valor predito=3815.333333, Valor real=3260.000000\n",
      "Valor predito=3727.666667, Valor real=1573.000000\n",
      "Valor predito=2939.666667, Valor real=3528.000000\n",
      "Valor predito=2787.000000, Valor real=5211.000000\n",
      "Valor predito=3437.333333, Valor real=7614.000000\n",
      "Valor predito=5451.000000, Valor real=9254.000000\n",
      "Valor predito=7359.666667, Valor real=5375.000000\n",
      "Valor predito=7414.333333, Valor real=3088.000000\n",
      "Valor predito=5905.666667, Valor real=3718.000000\n",
      "Valor predito=4060.333333, Valor real=4514.000000\n",
      "Valor predito=3773.333333, Valor real=4520.000000\n",
      "Valor predito=4250.666667, Valor real=4539.000000\n",
      "Valor predito=4524.333333, Valor real=3663.000000\n",
      "Valor predito=4240.666667, Valor real=1643.000000\n",
      "Valor predito=3281.666667, Valor real=4739.000000\n",
      "Valor predito=3348.333333, Valor real=5428.000000\n",
      "Valor predito=3936.666667, Valor real=8314.000000\n",
      "Valor predito=6160.333333, Valor real=10651.000000\n",
      "Valor predito=8131.000000, Valor real=3633.000000\n",
      "Valor predito=7532.666667, Valor real=4292.000000\n",
      "Valor predito=6192.000000, Valor real=4154.000000\n",
      "Valor predito=4026.333333, Valor real=4121.000000\n",
      "Valor predito=4189.000000, Valor real=4647.000000\n",
      "Valor predito=4307.333333, Valor real=4753.000000\n",
      "Valor predito=4507.000000, Valor real=3965.000000\n",
      "Valor predito=4455.000000, Valor real=1723.000000\n",
      "Valor predito=3480.333333, Valor real=5048.000000\n",
      "Valor predito=3578.666667, Valor real=6922.000000\n",
      "Valor predito=4564.333333, Valor real=9858.000000\n",
      "Valor predito=7276.000000, Valor real=11331.000000\n",
      "Valor predito=9370.333333, Valor real=4016.000000\n",
      "Valor predito=8401.666667, Valor real=3957.000000\n",
      "Valor predito=6434.666667, Valor real=4510.000000\n",
      "Valor predito=4161.000000, Valor real=4276.000000\n",
      "Valor predito=4247.666667, Valor real=4968.000000\n",
      "Valor predito=4584.666667, Valor real=4677.000000\n",
      "Valor predito=4640.333333, Valor real=3523.000000\n",
      "Valor predito=4389.333333, Valor real=1821.000000\n",
      "Valor predito=3340.333333, Valor real=5222.000000\n",
      "Valor predito=3522.000000, Valor real=6872.000000\n",
      "Valor predito=4638.333333, Valor real=10803.000000\n",
      "Valor predito=7632.333333, Valor real=13916.000000\n",
      "Valor predito=10530.333333, Valor real=2639.000000\n",
      "Valor predito=9119.333333, Valor real=2899.000000\n",
      "Valor predito=6484.666667, Valor real=3370.000000\n",
      "Valor predito=2969.333333, Valor real=3740.000000\n",
      "Valor predito=3336.333333, Valor real=2927.000000\n",
      "Valor predito=3345.666667, Valor real=3986.000000\n",
      "Valor predito=3551.000000, Valor real=4217.000000\n",
      "Valor predito=3710.000000, Valor real=1738.000000\n",
      "Valor predito=3313.666667, Valor real=5221.000000\n",
      "Valor predito=3725.333333, Valor real=6424.000000\n",
      "Valor predito=4461.000000, Valor real=9842.000000\n",
      "Valor predito=7162.333333, Valor real=13076.000000\n",
      "Valor predito=9780.666667, Valor real=3934.000000\n",
      "Valor predito=8950.666667, Valor real=3162.000000\n",
      "Valor predito=6724.000000, Valor real=4286.000000\n",
      "Valor predito=3794.000000, Valor real=4676.000000\n",
      "Valor predito=4041.333333, Valor real=5010.000000\n",
      "Valor predito=4657.333333, Valor real=4874.000000\n",
      "Valor predito=4853.333333, Valor real=4633.000000\n",
      "Valor predito=4839.000000, Valor real=1659.000000\n",
      "Valor predito=3722.000000, Valor real=5951.000000\n",
      "Valor predito=4081.000000, Valor real=6981.000000\n",
      "Valor predito=4863.666667, Valor real=9851.000000\n",
      "Valor predito=7594.333333, Valor real=12670.000000\n",
      "Valor predito=9834.000000, Valor real=4348.000000\n",
      "Valor predito=8956.333333, Valor real=3564.000000\n",
      "Valor predito=6860.666667, Valor real=4577.000000\n",
      "Valor predito=4163.000000, Valor real=4788.000000\n",
      "Valor predito=4309.666667, Valor real=4618.000000\n",
      "Valor predito=4661.000000, Valor real=5312.000000\n",
      "Valor predito=4906.000000, Valor real=4298.000000\n",
      "Valor predito=4742.666667, Valor real=1413.000000\n",
      "Valor predito=3674.333333, Valor real=5877.000000\n"
     ]
    }
   ],
   "source": [
    "# Define uma variavel chamada X que é a copia da serie de dados\n",
    "X = series.values\n",
    "\n",
    "# Define a variável window = 3 que será a janela de 3 valroes\n",
    "window = 3\n",
    "\n",
    "# Obtem os 3 primeiros valores da serie\n",
    "history = [X[i] for i in range(window)]\n",
    "\n",
    "# Obtem todos os valores após os tres primeiros.\n",
    "test = [X[i] for i in range(window, len(X))]\n",
    "\n",
    "# cria lista de predições\n",
    "predicoes = []\n",
    "\n",
    "# percorre sobre os dados de teste...\n",
    "\n",
    "for t in range(len(test)):\n",
    "  # define a variavel length com o tamanho da variável history\n",
    "  length = len(history)\n",
    "  \n",
    "  # define a variável valor_predito com a média dos 3 valores correntes..                                                           \n",
    "  valor_predito = mean([history[i] for i in range(length - window, length)])        \n",
    "  \n",
    "  # define a variável valor_real com o valor atual do teste..\n",
    "  valor_real = test[t]                                                              \n",
    "  \n",
    "  # alimenta a lista de predicoes\n",
    "  predicoes.append(valor_predito)                                                  \n",
    "  \n",
    "  # atualiza a lista history com os valores correntes..\n",
    "  history.append(valor_real)                                                        \n",
    "  \n",
    "  # imprime o valor predito e o real...\n",
    "  print('Valor predito=%f, Valor real=%f' % (valor_predito, valor_real))               "
   ]
  },
  {
   "cell_type": "code",
   "execution_count": 0,
   "metadata": {
    "colab": {},
    "colab_type": "code",
    "id": "4TYoYR0Fh7uw"
   },
   "outputs": [],
   "source": [
    "# calcula a métrica de rmse\n",
    "rmse = sqrt(mean_squared_error(test, predicoes))                         "
   ]
  },
  {
   "cell_type": "code",
   "execution_count": 35,
   "metadata": {
    "colab": {
     "base_uri": "https://localhost:8080/",
     "height": 34
    },
    "colab_type": "code",
    "executionInfo": {
     "elapsed": 705,
     "status": "ok",
     "timestamp": 1588297548546,
     "user": {
      "displayName": "Rodrigo Santana Ferreira",
      "photoUrl": "https://lh3.googleusercontent.com/a-/AOh14Gh4OVUnkCrXudTIiz5YNwndI2zAhcS1gWXUSvoqJQ=s64",
      "userId": "14710330936720624047"
     },
     "user_tz": 180
    },
    "id": "vUrvW7YCh83C",
    "outputId": "851f1f0f-6012-4c81-8a2a-70a025633e38"
   },
   "outputs": [
    {
     "name": "stdout",
     "output_type": "stream",
     "text": [
      "Métrica RMSE: 2960.299\n"
     ]
    }
   ],
   "source": [
    "# imprime o valor de rmse\n",
    "print('Métrica RMSE: %.3f' % rmse)"
   ]
  },
  {
   "cell_type": "code",
   "execution_count": 36,
   "metadata": {
    "colab": {
     "base_uri": "https://localhost:8080/",
     "height": 34
    },
    "colab_type": "code",
    "executionInfo": {
     "elapsed": 671,
     "status": "ok",
     "timestamp": 1588297570240,
     "user": {
      "displayName": "Rodrigo Santana Ferreira",
      "photoUrl": "https://lh3.googleusercontent.com/a-/AOh14Gh4OVUnkCrXudTIiz5YNwndI2zAhcS1gWXUSvoqJQ=s64",
      "userId": "14710330936720624047"
     },
     "user_tz": 180
    },
    "id": "EvL_Z34JVgn6",
    "outputId": "0267e5c8-12b7-483d-cd56-6f61cfba322c"
   },
   "outputs": [
    {
     "name": "stdout",
     "output_type": "stream",
     "text": [
      "Métrica RMSE: 2960.299\n"
     ]
    }
   ],
   "source": [
    "\n",
    "# imprime o valor de rmse\n",
    "print('Métrica RMSE: %.3f' % rmse)"
   ]
  },
  {
   "cell_type": "code",
   "execution_count": 0,
   "metadata": {
    "colab": {},
    "colab_type": "code",
    "id": "qulyvVKDrHY6"
   },
   "outputs": [],
   "source": [
    "indices = [i for i in range(0, len(test))]"
   ]
  },
  {
   "cell_type": "code",
   "execution_count": 40,
   "metadata": {
    "colab": {
     "base_uri": "https://localhost:8080/",
     "height": 542
    },
    "colab_type": "code",
    "executionInfo": {
     "elapsed": 772,
     "status": "ok",
     "timestamp": 1588297724490,
     "user": {
      "displayName": "Rodrigo Santana Ferreira",
      "photoUrl": "https://lh3.googleusercontent.com/a-/AOh14Gh4OVUnkCrXudTIiz5YNwndI2zAhcS1gWXUSvoqJQ=s64",
      "userId": "14710330936720624047"
     },
     "user_tz": 180
    },
    "id": "-OgbZrKOqhTF",
    "outputId": "234c0ced-cdd3-4adf-cab6-03a590e194fd"
   },
   "outputs": [
    {
     "data": {
      "text/html": [
       "<html>\n",
       "<head><meta charset=\"utf-8\" /></head>\n",
       "<body>\n",
       "    <div>\n",
       "            <script src=\"https://cdnjs.cloudflare.com/ajax/libs/mathjax/2.7.5/MathJax.js?config=TeX-AMS-MML_SVG\"></script><script type=\"text/javascript\">if (window.MathJax) {MathJax.Hub.Config({SVG: {font: \"STIX-Web\"}});}</script>\n",
       "                <script type=\"text/javascript\">window.PlotlyConfig = {MathJaxConfig: 'local'};</script>\n",
       "        <script src=\"https://cdn.plot.ly/plotly-latest.min.js\"></script>    \n",
       "            <div id=\"4a1eb7d3-9230-48e9-adae-28689e872433\" class=\"plotly-graph-div\" style=\"height:525px; width:100%;\"></div>\n",
       "            <script type=\"text/javascript\">\n",
       "                \n",
       "                    window.PLOTLYENV=window.PLOTLYENV || {};\n",
       "                    \n",
       "                if (document.getElementById(\"4a1eb7d3-9230-48e9-adae-28689e872433\")) {\n",
       "                    Plotly.newPlot(\n",
       "                        '4a1eb7d3-9230-48e9-adae-28689e872433',\n",
       "                        [{\"line\": {\"color\": \"#330000\"}, \"name\": \"Conjunto de teste\", \"opacity\": 0.8, \"type\": \"scatter\", \"x\": [0, 1, 2, 3, 4, 5, 6, 7, 8, 9, 10, 11, 12, 13, 14, 15, 16, 17, 18, 19, 20, 21, 22, 23, 24, 25, 26, 27, 28, 29, 30, 31, 32, 33, 34, 35, 36, 37, 38, 39, 40, 41, 42, 43, 44, 45, 46, 47, 48, 49, 50, 51, 52, 53, 54, 55, 56, 57, 58, 59, 60, 61, 62, 63, 64, 65, 66, 67, 68, 69, 70, 71, 72, 73, 74, 75, 76, 77, 78, 79, 80, 81, 82, 83, 84, 85, 86, 87, 88, 89, 90, 91, 92, 93, 94, 95, 96, 97, 98, 99, 100, 101], \"y\": [2721, 2946, 3036, 2282, 2212, 2922, 4301, 5764, 7312, 2541, 2475, 3031, 3266, 3776, 3230, 3028, 1759, 3595, 4474, 6838, 8357, 3113, 3006, 4047, 3523, 3937, 3986, 3260, 1573, 3528, 5211, 7614, 9254, 5375, 3088, 3718, 4514, 4520, 4539, 3663, 1643, 4739, 5428, 8314, 10651, 3633, 4292, 4154, 4121, 4647, 4753, 3965, 1723, 5048, 6922, 9858, 11331, 4016, 3957, 4510, 4276, 4968, 4677, 3523, 1821, 5222, 6872, 10803, 13916, 2639, 2899, 3370, 3740, 2927, 3986, 4217, 1738, 5221, 6424, 9842, 13076, 3934, 3162, 4286, 4676, 5010, 4874, 4633, 1659, 5951, 6981, 9851, 12670, 4348, 3564, 4577, 4788, 4618, 5312, 4298, 1413, 5877]}, {\"line\": {\"color\": \"#FF00FF\"}, \"name\": \"M\\u00e9dia M\\u00f3vel 3 Per\\u00edodos\", \"opacity\": 0.8, \"type\": \"scatter\", \"x\": [0, 1, 2, 3, 4, 5, 6, 7, 8, 9, 10, 11, 12, 13, 14, 15, 16, 17, 18, 19, 20, 21, 22, 23, 24, 25, 26, 27, 28, 29, 30, 31, 32, 33, 34, 35, 36, 37, 38, 39, 40, 41, 42, 43, 44, 45, 46, 47, 48, 49, 50, 51, 52, 53, 54, 55, 56, 57, 58, 59, 60, 61, 62, 63, 64, 65, 66, 67, 68, 69, 70, 71, 72, 73, 74, 75, 76, 77, 78, 79, 80, 81, 82, 83, 84, 85, 86, 87, 88, 89, 90, 91, 92, 93, 94, 95, 96, 97, 98, 99, 100, 101], \"y\": [2747.3333333333335, 2716.0, 2807.3333333333335, 2901.0, 2754.6666666666665, 2510.0, 2472.0, 3145.0, 4329.0, 5792.333333333333, 5205.666666666667, 4109.333333333333, 2682.3333333333335, 2924.0, 3357.6666666666665, 3424.0, 3344.6666666666665, 2672.3333333333335, 2794.0, 3276.0, 4969.0, 6556.333333333333, 6102.666666666667, 4825.333333333333, 3388.6666666666665, 3525.3333333333335, 3835.6666666666665, 3815.3333333333335, 3727.6666666666665, 2939.6666666666665, 2787.0, 3437.3333333333335, 5451.0, 7359.666666666667, 7414.333333333333, 5905.666666666667, 4060.3333333333335, 3773.3333333333335, 4250.666666666667, 4524.333333333333, 4240.666666666667, 3281.6666666666665, 3348.3333333333335, 3936.6666666666665, 6160.333333333333, 8131.0, 7532.666666666667, 6192.0, 4026.3333333333335, 4189.0, 4307.333333333333, 4507.0, 4455.0, 3480.3333333333335, 3578.6666666666665, 4564.333333333333, 7276.0, 9370.333333333334, 8401.666666666666, 6434.666666666667, 4161.0, 4247.666666666667, 4584.666666666667, 4640.333333333333, 4389.333333333333, 3340.3333333333335, 3522.0, 4638.333333333333, 7632.333333333333, 10530.333333333334, 9119.333333333334, 6484.666666666667, 2969.3333333333335, 3336.3333333333335, 3345.6666666666665, 3551.0, 3710.0, 3313.6666666666665, 3725.3333333333335, 4461.0, 7162.333333333333, 9780.666666666666, 8950.666666666666, 6724.0, 3794.0, 4041.3333333333335, 4657.333333333333, 4853.333333333333, 4839.0, 3722.0, 4081.0, 4863.666666666667, 7594.333333333333, 9834.0, 8956.333333333334, 6860.666666666667, 4163.0, 4309.666666666667, 4661.0, 4906.0, 4742.666666666667, 3674.3333333333335]}],\n",
       "                        {\"template\": {\"data\": {\"bar\": [{\"error_x\": {\"color\": \"#2a3f5f\"}, \"error_y\": {\"color\": \"#2a3f5f\"}, \"marker\": {\"line\": {\"color\": \"#E5ECF6\", \"width\": 0.5}}, \"type\": \"bar\"}], \"barpolar\": [{\"marker\": {\"line\": {\"color\": \"#E5ECF6\", \"width\": 0.5}}, \"type\": \"barpolar\"}], \"carpet\": [{\"aaxis\": {\"endlinecolor\": \"#2a3f5f\", \"gridcolor\": \"white\", \"linecolor\": \"white\", \"minorgridcolor\": \"white\", \"startlinecolor\": \"#2a3f5f\"}, \"baxis\": {\"endlinecolor\": \"#2a3f5f\", \"gridcolor\": \"white\", \"linecolor\": \"white\", \"minorgridcolor\": \"white\", \"startlinecolor\": \"#2a3f5f\"}, \"type\": \"carpet\"}], \"choropleth\": [{\"colorbar\": {\"outlinewidth\": 0, \"ticks\": \"\"}, \"type\": \"choropleth\"}], \"contour\": [{\"colorbar\": {\"outlinewidth\": 0, \"ticks\": \"\"}, \"colorscale\": [[0.0, \"#0d0887\"], [0.1111111111111111, \"#46039f\"], [0.2222222222222222, \"#7201a8\"], [0.3333333333333333, \"#9c179e\"], [0.4444444444444444, \"#bd3786\"], [0.5555555555555556, \"#d8576b\"], [0.6666666666666666, \"#ed7953\"], [0.7777777777777778, \"#fb9f3a\"], [0.8888888888888888, \"#fdca26\"], [1.0, \"#f0f921\"]], \"type\": \"contour\"}], \"contourcarpet\": [{\"colorbar\": {\"outlinewidth\": 0, \"ticks\": \"\"}, \"type\": \"contourcarpet\"}], \"heatmap\": [{\"colorbar\": {\"outlinewidth\": 0, \"ticks\": \"\"}, \"colorscale\": [[0.0, \"#0d0887\"], [0.1111111111111111, \"#46039f\"], [0.2222222222222222, \"#7201a8\"], [0.3333333333333333, \"#9c179e\"], [0.4444444444444444, \"#bd3786\"], [0.5555555555555556, \"#d8576b\"], [0.6666666666666666, \"#ed7953\"], [0.7777777777777778, \"#fb9f3a\"], [0.8888888888888888, \"#fdca26\"], [1.0, \"#f0f921\"]], \"type\": \"heatmap\"}], \"heatmapgl\": [{\"colorbar\": {\"outlinewidth\": 0, \"ticks\": \"\"}, \"colorscale\": [[0.0, \"#0d0887\"], [0.1111111111111111, \"#46039f\"], [0.2222222222222222, \"#7201a8\"], [0.3333333333333333, \"#9c179e\"], [0.4444444444444444, \"#bd3786\"], [0.5555555555555556, \"#d8576b\"], [0.6666666666666666, \"#ed7953\"], [0.7777777777777778, \"#fb9f3a\"], [0.8888888888888888, \"#fdca26\"], [1.0, \"#f0f921\"]], \"type\": \"heatmapgl\"}], \"histogram\": [{\"marker\": {\"colorbar\": {\"outlinewidth\": 0, \"ticks\": \"\"}}, \"type\": \"histogram\"}], \"histogram2d\": [{\"colorbar\": {\"outlinewidth\": 0, \"ticks\": \"\"}, \"colorscale\": [[0.0, \"#0d0887\"], [0.1111111111111111, \"#46039f\"], [0.2222222222222222, \"#7201a8\"], [0.3333333333333333, \"#9c179e\"], [0.4444444444444444, \"#bd3786\"], [0.5555555555555556, \"#d8576b\"], [0.6666666666666666, \"#ed7953\"], [0.7777777777777778, \"#fb9f3a\"], [0.8888888888888888, \"#fdca26\"], [1.0, \"#f0f921\"]], \"type\": \"histogram2d\"}], \"histogram2dcontour\": [{\"colorbar\": {\"outlinewidth\": 0, \"ticks\": \"\"}, \"colorscale\": [[0.0, \"#0d0887\"], [0.1111111111111111, \"#46039f\"], [0.2222222222222222, \"#7201a8\"], [0.3333333333333333, \"#9c179e\"], [0.4444444444444444, \"#bd3786\"], [0.5555555555555556, \"#d8576b\"], [0.6666666666666666, \"#ed7953\"], [0.7777777777777778, \"#fb9f3a\"], [0.8888888888888888, \"#fdca26\"], [1.0, \"#f0f921\"]], \"type\": \"histogram2dcontour\"}], \"mesh3d\": [{\"colorbar\": {\"outlinewidth\": 0, \"ticks\": \"\"}, \"type\": \"mesh3d\"}], \"parcoords\": [{\"line\": {\"colorbar\": {\"outlinewidth\": 0, \"ticks\": \"\"}}, \"type\": \"parcoords\"}], \"pie\": [{\"automargin\": true, \"type\": \"pie\"}], \"scatter\": [{\"marker\": {\"colorbar\": {\"outlinewidth\": 0, \"ticks\": \"\"}}, \"type\": \"scatter\"}], \"scatter3d\": [{\"line\": {\"colorbar\": {\"outlinewidth\": 0, \"ticks\": \"\"}}, \"marker\": {\"colorbar\": {\"outlinewidth\": 0, \"ticks\": \"\"}}, \"type\": \"scatter3d\"}], \"scattercarpet\": [{\"marker\": {\"colorbar\": {\"outlinewidth\": 0, \"ticks\": \"\"}}, \"type\": \"scattercarpet\"}], \"scattergeo\": [{\"marker\": {\"colorbar\": {\"outlinewidth\": 0, \"ticks\": \"\"}}, \"type\": \"scattergeo\"}], \"scattergl\": [{\"marker\": {\"colorbar\": {\"outlinewidth\": 0, \"ticks\": \"\"}}, \"type\": \"scattergl\"}], \"scattermapbox\": [{\"marker\": {\"colorbar\": {\"outlinewidth\": 0, \"ticks\": \"\"}}, \"type\": \"scattermapbox\"}], \"scatterpolar\": [{\"marker\": {\"colorbar\": {\"outlinewidth\": 0, \"ticks\": \"\"}}, \"type\": \"scatterpolar\"}], \"scatterpolargl\": [{\"marker\": {\"colorbar\": {\"outlinewidth\": 0, \"ticks\": \"\"}}, \"type\": \"scatterpolargl\"}], \"scatterternary\": [{\"marker\": {\"colorbar\": {\"outlinewidth\": 0, \"ticks\": \"\"}}, \"type\": \"scatterternary\"}], \"surface\": [{\"colorbar\": {\"outlinewidth\": 0, \"ticks\": \"\"}, \"colorscale\": [[0.0, \"#0d0887\"], [0.1111111111111111, \"#46039f\"], [0.2222222222222222, \"#7201a8\"], [0.3333333333333333, \"#9c179e\"], [0.4444444444444444, \"#bd3786\"], [0.5555555555555556, \"#d8576b\"], [0.6666666666666666, \"#ed7953\"], [0.7777777777777778, \"#fb9f3a\"], [0.8888888888888888, \"#fdca26\"], [1.0, \"#f0f921\"]], \"type\": \"surface\"}], \"table\": [{\"cells\": {\"fill\": {\"color\": \"#EBF0F8\"}, \"line\": {\"color\": \"white\"}}, \"header\": {\"fill\": {\"color\": \"#C8D4E3\"}, \"line\": {\"color\": \"white\"}}, \"type\": \"table\"}]}, \"layout\": {\"annotationdefaults\": {\"arrowcolor\": \"#2a3f5f\", \"arrowhead\": 0, \"arrowwidth\": 1}, \"coloraxis\": {\"colorbar\": {\"outlinewidth\": 0, \"ticks\": \"\"}}, \"colorscale\": {\"diverging\": [[0, \"#8e0152\"], [0.1, \"#c51b7d\"], [0.2, \"#de77ae\"], [0.3, \"#f1b6da\"], [0.4, \"#fde0ef\"], [0.5, \"#f7f7f7\"], [0.6, \"#e6f5d0\"], [0.7, \"#b8e186\"], [0.8, \"#7fbc41\"], [0.9, \"#4d9221\"], [1, \"#276419\"]], \"sequential\": [[0.0, \"#0d0887\"], [0.1111111111111111, \"#46039f\"], [0.2222222222222222, \"#7201a8\"], [0.3333333333333333, \"#9c179e\"], [0.4444444444444444, \"#bd3786\"], [0.5555555555555556, \"#d8576b\"], [0.6666666666666666, \"#ed7953\"], [0.7777777777777778, \"#fb9f3a\"], [0.8888888888888888, \"#fdca26\"], [1.0, \"#f0f921\"]], \"sequentialminus\": [[0.0, \"#0d0887\"], [0.1111111111111111, \"#46039f\"], [0.2222222222222222, \"#7201a8\"], [0.3333333333333333, \"#9c179e\"], [0.4444444444444444, \"#bd3786\"], [0.5555555555555556, \"#d8576b\"], [0.6666666666666666, \"#ed7953\"], [0.7777777777777778, \"#fb9f3a\"], [0.8888888888888888, \"#fdca26\"], [1.0, \"#f0f921\"]]}, \"colorway\": [\"#636efa\", \"#EF553B\", \"#00cc96\", \"#ab63fa\", \"#FFA15A\", \"#19d3f3\", \"#FF6692\", \"#B6E880\", \"#FF97FF\", \"#FECB52\"], \"font\": {\"color\": \"#2a3f5f\"}, \"geo\": {\"bgcolor\": \"white\", \"lakecolor\": \"white\", \"landcolor\": \"#E5ECF6\", \"showlakes\": true, \"showland\": true, \"subunitcolor\": \"white\"}, \"hoverlabel\": {\"align\": \"left\"}, \"hovermode\": \"closest\", \"mapbox\": {\"style\": \"light\"}, \"paper_bgcolor\": \"white\", \"plot_bgcolor\": \"#E5ECF6\", \"polar\": {\"angularaxis\": {\"gridcolor\": \"white\", \"linecolor\": \"white\", \"ticks\": \"\"}, \"bgcolor\": \"#E5ECF6\", \"radialaxis\": {\"gridcolor\": \"white\", \"linecolor\": \"white\", \"ticks\": \"\"}}, \"scene\": {\"xaxis\": {\"backgroundcolor\": \"#E5ECF6\", \"gridcolor\": \"white\", \"gridwidth\": 2, \"linecolor\": \"white\", \"showbackground\": true, \"ticks\": \"\", \"zerolinecolor\": \"white\"}, \"yaxis\": {\"backgroundcolor\": \"#E5ECF6\", \"gridcolor\": \"white\", \"gridwidth\": 2, \"linecolor\": \"white\", \"showbackground\": true, \"ticks\": \"\", \"zerolinecolor\": \"white\"}, \"zaxis\": {\"backgroundcolor\": \"#E5ECF6\", \"gridcolor\": \"white\", \"gridwidth\": 2, \"linecolor\": \"white\", \"showbackground\": true, \"ticks\": \"\", \"zerolinecolor\": \"white\"}}, \"shapedefaults\": {\"line\": {\"color\": \"#2a3f5f\"}}, \"ternary\": {\"aaxis\": {\"gridcolor\": \"white\", \"linecolor\": \"white\", \"ticks\": \"\"}, \"baxis\": {\"gridcolor\": \"white\", \"linecolor\": \"white\", \"ticks\": \"\"}, \"bgcolor\": \"#E5ECF6\", \"caxis\": {\"gridcolor\": \"white\", \"linecolor\": \"white\", \"ticks\": \"\"}}, \"title\": {\"x\": 0.05}, \"xaxis\": {\"automargin\": true, \"gridcolor\": \"white\", \"linecolor\": \"white\", \"ticks\": \"\", \"title\": {\"standoff\": 15}, \"zerolinecolor\": \"white\", \"zerolinewidth\": 2}, \"yaxis\": {\"automargin\": true, \"gridcolor\": \"white\", \"linecolor\": \"white\", \"ticks\": \"\", \"title\": {\"standoff\": 15}, \"zerolinecolor\": \"white\", \"zerolinewidth\": 2}}}, \"title\": {\"text\": \"Teste set vs M\\u00e9dia M\\u00f3vel 3 per\\u00edodos\", \"x\": 0.5}},\n",
       "                        {\"responsive\": true}\n",
       "                    ).then(function(){\n",
       "                            \n",
       "var gd = document.getElementById('4a1eb7d3-9230-48e9-adae-28689e872433');\n",
       "var x = new MutationObserver(function (mutations, observer) {{\n",
       "        var display = window.getComputedStyle(gd).display;\n",
       "        if (!display || display === 'none') {{\n",
       "            console.log([gd, 'removed!']);\n",
       "            Plotly.purge(gd);\n",
       "            observer.disconnect();\n",
       "        }}\n",
       "}});\n",
       "\n",
       "// Listen for the removal of the full notebook cells\n",
       "var notebookContainer = gd.closest('#notebook-container');\n",
       "if (notebookContainer) {{\n",
       "    x.observe(notebookContainer, {childList: true});\n",
       "}}\n",
       "\n",
       "// Listen for the clearing of the current output cell\n",
       "var outputEl = gd.closest('.output');\n",
       "if (outputEl) {{\n",
       "    x.observe(outputEl, {childList: true});\n",
       "}}\n",
       "\n",
       "                        })\n",
       "                };\n",
       "                \n",
       "            </script>\n",
       "        </div>\n",
       "</body>\n",
       "</html>"
      ]
     },
     "metadata": {
      "tags": []
     },
     "output_type": "display_data"
    }
   ],
   "source": [
    "teste = go.Scatter(\n",
    "                x=indices,\n",
    "                y=test,\n",
    "                name = \"Conjunto de teste\",\n",
    "                line = dict(color = '#330000'),\n",
    "                opacity = 0.8)\n",
    "\n",
    "MM_3 = go.Scatter(\n",
    "                x=indices,\n",
    "                y=predicoes,\n",
    "                name = \"Média Móvel 3 Períodos\",\n",
    "                line = dict(color = '#FF00FF'),\n",
    "                opacity = 0.8)\n",
    "\n",
    "data = [teste, MM_3]\n",
    "\n",
    "layout = dict(\n",
    "    title = \"Teste set vs Média Móvel 3 períodos\",\n",
    "    title_x= 0.5\n",
    ")\n",
    "\n",
    "fig = dict(data=data, layout=layout)\n",
    "py.iplot(fig)"
   ]
  }
 ],
 "metadata": {
  "colab": {
   "collapsed_sections": [
    "_2Tpxr_I2jV7",
    "vaQkNb0uzfEs",
    "VYb28Y2gvsJK",
    "2qz0LqUzvajg",
    "_uPyQMtu626q",
    "fI2XLDpgY4ED",
    "tH7nJ9OLuDsW",
    "hgVIRtad9_U4",
    "7UfK5TM1Au6Y",
    "GlvvJzZvb7K5",
    "j31KrHb0yYoB",
    "MXKMUZQi__Zw",
    "8B4HNql2aPmA",
    "mCPix2MdORDh",
    "Bu1rEmecif4o",
    "TYwxlxI1uVX-",
    "NPesnsTgQvNp"
   ],
   "name": "Previsao-Médias-Móveis.ipynb",
   "provenance": []
  },
  "kernelspec": {
   "display_name": "Python 3",
   "language": "python",
   "name": "python3"
  },
  "language_info": {
   "codemirror_mode": {
    "name": "ipython",
    "version": 3
   },
   "file_extension": ".py",
   "mimetype": "text/x-python",
   "name": "python",
   "nbconvert_exporter": "python",
   "pygments_lexer": "ipython3",
   "version": "3.7.6"
  }
 },
 "nbformat": 4,
 "nbformat_minor": 1
}
